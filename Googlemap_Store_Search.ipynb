{
  "nbformat": 4,
  "nbformat_minor": 0,
  "metadata": {
    "colab": {
      "name": "Googlemap Store Search.ipynb",
      "provenance": [],
      "collapsed_sections": [],
      "mount_file_id": "1gpdM-l18V49edFp4I1_mR5p6ilcHRc2_",
      "authorship_tag": "ABX9TyOFJzgCidqmNQ0Xpe5s44c7",
      "include_colab_link": true
    },
    "kernelspec": {
      "name": "python3",
      "display_name": "Python 3"
    }
  },
  "cells": [
    {
      "cell_type": "markdown",
      "metadata": {
        "id": "view-in-github",
        "colab_type": "text"
      },
      "source": [
        "<a href=\"https://colab.research.google.com/github/nightted/Travel-Recommend-project/blob/main/Googlemap_Store_Search.ipynb\" target=\"_parent\"><img src=\"https://colab.research.google.com/assets/colab-badge.svg\" alt=\"Open In Colab\"/></a>"
      ]
    },
    {
      "cell_type": "markdown",
      "metadata": {
        "id": "5OfTz38QSrnj"
      },
      "source": [
        "# A project to recommend the hotels according to the surrounding stores and attractions\n",
        "\n",
        "\n",
        "1.  根據 All餐廳s + All 便利商店s \"密度\" (有人 Prefer \"安靜\" , 有人愛 \"鬧區與便利\"), 以及想吃&去的 target store 位置( EX: 牛肉湯,肉燥飯,觀光景點,網美餐廳...) & 密度來選擇住的區域 (還在發想要不要加入 ratings 來做選擇的 weighting)\n",
        "2.  選擇區域後 , 再根據區域內 target store 分布 , 以及機能密度 , 以及\"想去的景點\"(演算法待想) , 來選擇區域內的一個 center 來當搜尋中心點. \n",
        "3.  根據中心點 , 抓初 circle 範圍內一定的推薦數量(User control)的 hotels , 並根據 user 所設的 criteria ( ratings , 民宿or飯店類型 ...) 來 filter hotels \n",
        "4. 從 booking 爬取及時房況 (直接一間一間 POST filter 出來的 hotels ?) 並呈現在頁面上.\n"
      ]
    },
    {
      "cell_type": "markdown",
      "metadata": {
        "id": "I-jOTWk-42tA"
      },
      "source": [
        "#TODO LIST\n",
        "1. #TODO : sightseeing spot and 網美景點 (Done)\n",
        "2. #TODO : 決定選區演算法 (Done , see current idea)\n",
        "3. #TODO : 把 store data class 化的必要?\n",
        "*  Current idea :\n",
        "\n",
        "*   step.1 算出美食與便利店密度, 當作機能指標 (Done , 11/6 新增 rating_depent ,\n",
        "      11/7 修改 grid_generator 新增 'normal' mode)\n",
        "*   step.2 尋找機能密度 peak , 抓出前幾大 peak 的位置 (這邊如果有加入想去的景點選\n",
        "      項, peak 選擇可加入此條件考量 , EX: 離景點最近的 peak) \n",
        "*   step.3 找到 peak 後 , 按 peak 所在的 grid 做上下左右的搜索 , 並設置 target \n",
        "      S =  機能密度 x 想吃的食物數目(要考慮評價 ,利用 radius search)  \n",
        "\n",
        "3. #TODO : 飯店附近推薦美食 , 需用 googlesearch package 來抓google搜尋blog結果 \n",
        "\n"
      ]
    },
    {
      "cell_type": "code",
      "metadata": {
        "id": "XM3Vb3_nXlkZ",
        "outputId": "f59f790b-6f72-420e-e3ad-6cd3ae4ee494",
        "colab": {
          "base_uri": "https://localhost:8080/"
        }
      },
      "source": [
        "!pip install googlemaps"
      ],
      "execution_count": 2,
      "outputs": [
        {
          "output_type": "stream",
          "text": [
            "Collecting googlemaps\n",
            "  Downloading https://files.pythonhosted.org/packages/00/fa/508909813a3f0ff969d341695ee0b90cb0e954b4b536f17f15cc19b5c304/googlemaps-4.4.2.tar.gz\n",
            "Requirement already satisfied: requests<3.0,>=2.20.0 in /usr/local/lib/python3.6/dist-packages (from googlemaps) (2.23.0)\n",
            "Requirement already satisfied: certifi>=2017.4.17 in /usr/local/lib/python3.6/dist-packages (from requests<3.0,>=2.20.0->googlemaps) (2020.6.20)\n",
            "Requirement already satisfied: urllib3!=1.25.0,!=1.25.1,<1.26,>=1.21.1 in /usr/local/lib/python3.6/dist-packages (from requests<3.0,>=2.20.0->googlemaps) (1.24.3)\n",
            "Requirement already satisfied: idna<3,>=2.5 in /usr/local/lib/python3.6/dist-packages (from requests<3.0,>=2.20.0->googlemaps) (2.10)\n",
            "Requirement already satisfied: chardet<4,>=3.0.2 in /usr/local/lib/python3.6/dist-packages (from requests<3.0,>=2.20.0->googlemaps) (3.0.4)\n",
            "Building wheels for collected packages: googlemaps\n",
            "  Building wheel for googlemaps (setup.py) ... \u001b[?25l\u001b[?25hdone\n",
            "  Created wheel for googlemaps: filename=googlemaps-4.4.2-cp36-none-any.whl size=37858 sha256=7c521b067b39c1fcedf2a937d0c233ba1edb64766534723dbebe6d2ab69b4c3e\n",
            "  Stored in directory: /root/.cache/pip/wheels/f4/21/41/0c84572e21d52bb322f6c299f38ac7cd8ad6d4d6ce23dc3631\n",
            "Successfully built googlemaps\n",
            "Installing collected packages: googlemaps\n",
            "Successfully installed googlemaps-4.4.2\n"
          ],
          "name": "stdout"
        }
      ]
    },
    {
      "cell_type": "code",
      "metadata": {
        "id": "P_FHgZeTXslv"
      },
      "source": [
        "import googlemaps\n",
        "import matplotlib.pyplot as plt\n",
        "import numpy as np\n",
        "import pickle \n",
        "from sklearn.cluster import KMeans\n",
        "import time \n",
        "import os \n",
        "import seaborn as sns\n",
        "import math \n",
        "from functools import partial , reduce  \n",
        "import requests\n",
        "from bs4 import BeautifulSoup\n",
        "\n",
        "key_path = '/content/drive/My Drive/Colab Notebooks/Travel Recommend Project/API_KEY/API_KEY.txt'\n",
        "storage_path = '/content/drive/My Drive/Colab Notebooks/Travel Recommend Project/City data/Tainan'\n",
        "lng_1 = 102.516520*1000 # 1 longitude to meters\n",
        "lat_1 = 110.740000*1000 # 1 latitude to meters"
      ],
      "execution_count": 3,
      "outputs": []
    },
    {
      "cell_type": "code",
      "metadata": {
        "id": "oRDvEF0GYmYs"
      },
      "source": [
        "# Loading data\n",
        "\n",
        "def save_pkl(path  , data):\n",
        "    with open(path , \"wb\") as pkl :\n",
        "        pickle.dump(data , pkl)\n",
        "        \n",
        "def load_pkl(path):\n",
        "    with open(path , \"rb\") as pkl :\n",
        "        data = pickle.load(pkl) \n",
        "    return data\n",
        "    \n",
        "grid_to_latlng = load_pkl('/content/drive/My Drive/Colab Notebooks/Travel Recommend Project/City data/Tainan/Gird_to_latlng/grid_to_latlng')\n",
        "data_train_station = load_pkl(os.path.join(storage_path ,'data_train_station'))\n",
        "#data_hotel = grab_nearby_point( '飯店' , location , radius = 200 , ranging = 5 , data = data_hotel ) #飯店 store\n",
        "data_hotel = load_pkl(os.path.join(storage_path ,'data_hotel'))\n",
        "#data_rest = grab_nearby_point('餐廳', location , 400) #餐廳 store\n",
        "data_rest = load_pkl(os.path.join(storage_path ,'data_rest'))\n",
        "#data_beefsoup = grab_nearby_point('牛肉湯', location , 1000) #牛肉湯 store\n",
        "data_beefsoup = load_pkl(os.path.join(storage_path ,'data_beefsoup'))\n",
        "#data_porkrice = grab_nearby_point('肉燥飯', location , 1000) # 肉燥飯 store\n",
        "data_porkrice = load_pkl(os.path.join(storage_path ,'data_porkrice'))\n",
        "#data_EelNoodles = grab_nearby_point('鱔魚意麵', location , 1000 , ranging = 2) # 鱔魚意麵 store \n",
        "data_EelNoodles = load_pkl(os.path.join(storage_path ,'data_EelNoodles'))\n",
        "#data_gruel = grab_nearby_point('鹹粥', location , 1000 , ranging = 2) # 鹹粥 store \n",
        "data_gruel = load_pkl(os.path.join(storage_path ,'data_gruel'))\n",
        "#data_nightmarket = grab_nearby_point('夜市', location , 1000) # 夜市 store\n",
        "data_nightmarket = load_pkl(os.path.join(storage_path ,'data_nightmarket'))\n",
        "#data_con = grab_nearby_point('便利商店', location , 1000) # 便利商店 store\n",
        "data_con = load_pkl(os.path.join(storage_path ,'data_con'))\n",
        "data_sightseeing = load_pkl(os.path.join(storage_path ,'data_sightseeing'))"
      ],
      "execution_count": 37,
      "outputs": []
    },
    {
      "cell_type": "code",
      "metadata": {
        "id": "wT9XPXdyN1HN"
      },
      "source": [
        "# Saving Data\n",
        "#save_pkl(os.path.join(storage_path ,'data_train_station') , data_train_station)\n",
        "#save_pkl(os.path.join(storage_path ,'data_rest') , data_rest)\n",
        "#save_pkl(os.path.join(storage_path ,'data_beefsoup') , data_beefsoup)\n",
        "#save_pkl(os.path.join(storage_path ,'data_nightmarket') , data_nightmarket)\n",
        "#save_pkl(os.path.join(storage_path ,'data_porkrice') , data_porkrice)\n",
        "#save_pkl(os.path.join(storage_path ,'data_con') , data_con)\n",
        "#save_pkl(os.path.join(storage_path ,'data_hotel') , data_hotel)\n",
        "#save_pkl(os.path.join(storage_path ,'data_sightseeing') , data_sightseeing)\n",
        "#save_pkl(os.path.join(storage_path ,'data_gruel') , data_gruel)\n",
        "#save_pkl(os.path.join(storage_path ,'data_EelNoodles') , data_EelNoodles)"
      ],
      "execution_count": null,
      "outputs": []
    },
    {
      "cell_type": "code",
      "metadata": {
        "id": "wTgRBVpOX05h"
      },
      "source": [
        "def read_key(key_path):\n",
        "  with open(key_path , 'r') as f:\n",
        "    KEY = f.read()\n",
        "  return KEY\n",
        "  \n",
        "# generate grid of position by radius\n",
        "def grid_generator( location , radius , ranging , mode = \"max_area\"):\n",
        "    \n",
        "    '''\n",
        "    # function : generate search points (grid)\n",
        "\n",
        "    location : search center (grid start generating from this point) \n",
        "\n",
        "    radius : interval between grid point\n",
        "\n",
        "    ranging : number of search points to generate in top,bottom,left,right ( 1 ranging equal to generate 2 points about 1 radius interval in \"full-cover\" mode)\n",
        "\n",
        "\n",
        "    @ is scan point in grid\n",
        "\n",
        "    mode 'normal : @--2*r--@--2*r--@--2*r--@--2*r--@ \n",
        "             @--2*r--@--2*r--@--2*r--@--2*r--@\n",
        "\n",
        "    mode 'max_area' :    @--2*r--@--2*r--@--2*r-- \n",
        "                --2*r--@--2*r--@--2*r--@\n",
        "\n",
        "    mode 'full_cover' :  @-r-@-r-@-r-@-r-@ \n",
        "                @-r-@-r-@-r-@-r-@ \n",
        "\n",
        "    '''\n",
        "\n",
        "    rg = [ i for i in range(ranging,-(ranging+1),-1) ] #　get list between [int , -int]\n",
        "    grid_delta_lng = radius / lng_1 # unit transform between meter and lat,lng  ( 1000m radius <=> 0.01 lag ,lng )\n",
        "    grid_delta_lat = radius / lat_1\n",
        "\n",
        "    lng , lat = location['lng'] , location['lat']\n",
        "    # get the grids \n",
        "    grid_outer = [ {'lng': lng + grid_delta_lng *2* lng_delta , 'lat': lat + grid_delta_lat *2* lat_delta } for lng_delta in rg for lat_delta in rg ]\n",
        "\n",
        "    if mode == 'max_area':\n",
        "      grid_inner = [ {'lng': dicts['lng'] - grid_delta_lng  , 'lat': dicts['lat'] - grid_delta_lat } for dicts in grid_outer ]\n",
        "      \n",
        "      return grid_outer + grid_inner\n",
        "\n",
        "    if mode == 'full_cover':\n",
        "      grid_inner = [ {'lng': dicts['lng'] - grid_delta_lng  , 'lat': dicts['lat'] - grid_delta_lat } for dicts in grid_outer ]\n",
        "      grid_down = [ {'lng': dicts['lng']  , 'lat': dicts['lat'] - grid_delta_lat } for dicts in grid_outer ]\n",
        "      grid_aside = [ {'lng': dicts['lng'] - grid_delta_lng  , 'lat': dicts['lat']  } for dicts in grid_outer ] \n",
        "\n",
        "      return grid_outer + grid_inner + grid_down + grid_aside\n",
        "\n",
        "    return grid_outer \n",
        "\n",
        "# get store information with location , keyword , search radius  \n",
        "def get_store_nearby( keyword , location ,  radius , next_page_token , data ):\n",
        "\n",
        "    '''\n",
        "    # function : get stores with keyword in some radius\n",
        "\n",
        "    keyword : keyword of store you want to search \n",
        "\n",
        "    location : search center \n",
        "\n",
        "    radius : search radius\n",
        "\n",
        "    next_page_token : to get data of page 20~40 , 40~60  \n",
        "\n",
        "    data : data already storage \n",
        "    '''\n",
        "    \n",
        "    if data == None:      \n",
        "        data = []\n",
        "\n",
        "    res = maps.places_nearby( page_token = next_page_token , keyword = keyword , location = location , radius = 1000 )   #get stores list nearby   \n",
        "    for store_inform in res['results']:\n",
        "\n",
        "        lat_lng = store_inform['geometry']['location']\n",
        "        lat , lng = lat_lng['lat'] , lat_lng[\"lng\"]\n",
        "        store_name = store_inform['name']\n",
        "        rating = store_inform.get('rating',None)\n",
        "\n",
        "        information = {'location' : [lng , lat] , \n",
        "                  'store_name' : store_name, \n",
        "                  'rating' : rating } \n",
        "\n",
        "        if rating and information not in data: # discard None-rating store\n",
        "            data.append(information)\n",
        "        \n",
        "    next_page_token = res.get( 'next_page_token' , None) # get if token exsit or return None \n",
        "\n",
        "    return next_page_token , data\n",
        "\n",
        "# get store information with location , keyword , search radius (plus the change pages and move search location)\n",
        "# 1 ranging is across 2 * radius in each sides  \n",
        "# EX : radius = 1000 , ranging = 1 , so the spanning region is 2000 in top,bottom,left,right directions , total scan area = 4000 X 4000 .\n",
        "def grab_nearby_point( keyword , search_center ,  radius , ranging , next_page_token = None , data = None ):\n",
        "\n",
        "    '''\n",
        "    # function : get stores with keyword in range of grid\n",
        "\n",
        "    keyword : keyword of store you want to search \n",
        "\n",
        "    location : search center \n",
        "\n",
        "    radius : search radius\n",
        "\n",
        "    next_page_token : to get data of page 20~40 , 40~60  \n",
        "\n",
        "    data : data already storage \n",
        "    '''\n",
        "    \n",
        "    \n",
        "    for idx , location in enumerate(grid_generator(grid_center , radius , ranging )): \n",
        "\n",
        "        print(f'finish [{idx+1}/{len(grid_generator(grid_center , radius , ranging))}] parts !')       \n",
        "        while True : # change page\n",
        "            next_page_token , data = get_store_nearby( keyword , location ,  radius , next_page_token = next_page_token , data = data )\n",
        "            if next_page_token == None :\n",
        "                break\n",
        "            time.sleep(3) #set time sleep to avoid request too often !\n",
        "    return data   \n",
        "\n",
        "# store weighting\n",
        "def rating_modify(rating):\n",
        "    \n",
        "    if  4.8 < rating <= 5.0 :\n",
        "        score = 512.0\n",
        "    elif 4.6 < rating <= 4.8 :\n",
        "        score = 256.0\n",
        "    elif 4.4 < rating <= 4.6 :\n",
        "        score = 128.0\n",
        "    elif 4.2 < rating <= 4.4 :\n",
        "        score = 64.0\n",
        "    elif 4.0 < rating <= 4.2 :\n",
        "        score = 32.0\n",
        "    elif 3.8 < rating <= 4.0 :\n",
        "        score = 16.0\n",
        "    elif 3.6 < rating <= 3.8 :\n",
        "        score = 8.0\n",
        "    elif 3.4 < rating <= 3.6 :\n",
        "        score = 4.0\n",
        "    elif 3.2 < rating <= 3.4 :\n",
        "        score = 2.0\n",
        "    else:\n",
        "        score = 1.0\n",
        "    \n",
        "    return score\n",
        "\n",
        "def distance(a , b):\n",
        "\n",
        "    '''\n",
        "    get distnace of two point (in unit of meter)\n",
        "    '''\n",
        "    a_x , a_y = a[0] , a[1]\n",
        "    b_x , b_y = b[0] , b[1]\n",
        "    delta_x_meter = (a_x-b_x)*lng_1\n",
        "    delta_y_meter = (a_y-b_y)*lat_1\n",
        "\n",
        "    return ((delta_x_meter)**2 + (delta_y_meter)**2 )**0.5"
      ],
      "execution_count": 15,
      "outputs": []
    },
    {
      "cell_type": "code",
      "metadata": {
        "id": "0ixlH-N0X8LV"
      },
      "source": [
        "# grab the store contain some keyword (ex: 扁食)\n",
        "def grab_keyword_store( data , keyword = ''):\n",
        "\n",
        "  '''\n",
        "  # function : transform data to numpy\n",
        "\n",
        "  keyword : to filter keyword in store_name\n",
        "  '''\n",
        " \n",
        "  x ,y , x_y , rat , name = [] , [] , [] , [] , []\n",
        "  for item in data:\n",
        "    if keyword in item[\"store_name\"] : # if keyword == None , grab all stores\n",
        "      x.append(item['location'][0])\n",
        "      y.append(item['location'][1])\n",
        "      x_y.append(item['location'])\n",
        "      #rat.append(rating_modify(item['rating'])) # rating func 要修正XD , EX: 4.8~5.0 => 10 分 , 4.6~4.8 => 9 分 , ... , < 3.0 => 1分\n",
        "      rat.append(item['rating'])\n",
        "      name.append(item['store_name'])\n",
        "\n",
        "  return x , y , x_y , rat ,name"
      ],
      "execution_count": 6,
      "outputs": []
    },
    {
      "cell_type": "code",
      "metadata": {
        "id": "9ZlgBT1jXtI8"
      },
      "source": [
        "GOOGLE_API_KEY = read_key(key_path)\n",
        "maps = googlemaps.Client(key = GOOGLE_API_KEY)"
      ],
      "execution_count": 16,
      "outputs": []
    },
    {
      "cell_type": "code",
      "metadata": {
        "id": "o0UZiz4SogAB"
      },
      "source": [
        "position = ['春川煎餅']\n",
        "result = maps.geocode(position)\n",
        "location = result[0]['geometry']['location']"
      ],
      "execution_count": 17,
      "outputs": []
    },
    {
      "cell_type": "code",
      "metadata": {
        "id": "aCvhFJp79kI-",
        "outputId": "84197e3b-f4c4-483b-8d06-1576bdee6c4c",
        "colab": {
          "base_uri": "https://localhost:8080/"
        }
      },
      "source": [
        "location"
      ],
      "execution_count": 18,
      "outputs": [
        {
          "output_type": "execute_result",
          "data": {
            "text/plain": [
              "{'lat': 22.9913113, 'lng': 120.198012}"
            ]
          },
          "metadata": {
            "tags": []
          },
          "execution_count": 18
        }
      ]
    },
    {
      "cell_type": "code",
      "metadata": {
        "id": "L4wQlAG7dq2_",
        "outputId": "95a33774-e9ed-407e-a63a-e95cda6dacfc",
        "colab": {
          "base_uri": "https://localhost:8080/",
          "height": 69
        }
      },
      "source": [
        "'''\n",
        "positions = ['台南火車站']\n",
        "data_train_station = []\n",
        "for idx ,position in enumerate(positions):\n",
        "\n",
        "  results = maps.geocode(position)\n",
        "  place_deatil = maps.place( place_id= results[0]['place_id'])\n",
        "\n",
        "  lat_lng = place_deatil['result']['geometry']['location']\n",
        "  lat , lng = lat_lng['lat'] , lat_lng[\"lng\"]\n",
        "  rating = place_deatil['result']['rating']\n",
        "  rating_num = place_deatil['result']['user_ratings_total']\n",
        "\n",
        "  data_train_station.append({'location' : [lng , lat] ,\n",
        "               'rating' : rating ,\n",
        "              'store_name' : position\n",
        "                         })\n",
        "'''          "
      ],
      "execution_count": 11,
      "outputs": [
        {
          "output_type": "execute_result",
          "data": {
            "application/vnd.google.colaboratory.intrinsic+json": {
              "type": "string"
            },
            "text/plain": [
              "'\\npositions = [\\'台南火車站\\']\\ndata_train_station = []\\nfor idx ,position in enumerate(positions):\\n\\n  results = maps.geocode(position)\\n  place_deatil = maps.place( place_id= results[0][\\'place_id\\'])\\n\\n  lat_lng = place_deatil[\\'result\\'][\\'geometry\\'][\\'location\\']\\n  lat , lng = lat_lng[\\'lat\\'] , lat_lng[\"lng\"]\\n  rating = place_deatil[\\'result\\'][\\'rating\\']\\n  rating_num = place_deatil[\\'result\\'][\\'user_ratings_total\\']\\n\\n  data_train_station.append({\\'location\\' : [lng , lat] ,\\n               \\'rating\\' : rating ,\\n              \\'store_name\\' : position\\n                         })\\n'"
            ]
          },
          "metadata": {
            "tags": []
          },
          "execution_count": 11
        }
      ]
    },
    {
      "cell_type": "code",
      "metadata": {
        "id": "44nPBPOlIDp8"
      },
      "source": [
        "x_rs , y_rs , x_y_rs , rating_rs , name_rs = grab_keyword_store(data_rest) # All 餐廳s\n",
        "x_tr , y_tr , x_y_tr , rating_tr , name_tr = grab_keyword_store(data_train_station)             # train station \n",
        "x_bf , y_bf , x_y_bf , rating_bf , name_bf = grab_keyword_store(data_beefsoup , \"牛肉湯\")         # 牛肉湯\n",
        "x_nm , y_nm , x_y_nm , rating_nm , name_nm = grab_keyword_store(data_nightmarket , 'Night Market')    # 夜市\n",
        "x_pr , y_pr , x_y_pr , rating_pr , name_pr = grab_keyword_store(data_porkrice , '肉燥飯')         # 肉燥飯\n",
        "x_cn , y_cn , x_y_cn , rating_cn , name_cn = grab_keyword_store(data_con)                  # 便利超商\n",
        "x_h , y_h , x_y_h , rating_h , name_h = grab_keyword_store(data_hotel)                    # 飯店 \n",
        "x_sight , y_sight , x_y_sight , rating_sight , name_sight = grab_keyword_store(data_sightseeing)       # 觀光景點\n",
        "x_Eel , y_Eel , x_y_Eel , rating_Eel , name_Eel = grab_keyword_store(data_EelNoodles)            # 鱔魚意麵\n",
        "x_gru , y_gru , x_y_gru , rating_gru , name_gru = grab_keyword_store(data_gruel)               # 鹹粥"
      ],
      "execution_count": 19,
      "outputs": []
    },
    {
      "cell_type": "code",
      "metadata": {
        "id": "ooegxlZqIdOd",
        "outputId": "bd62d0c0-f388-46e4-ac30-57a37ebb803c",
        "colab": {
          "base_uri": "https://localhost:8080/",
          "height": 282
        }
      },
      "source": [
        "plt.scatter(np.array(x_y_rs)[:,0],np.array(x_y_rs)[:,1])    # 餐廳\n",
        "#plt.scatter(np.array([location['lng']]) , np.array([location['lat']])  ) # 台南火車站\n",
        "#plt.scatter(np.array(x_y_bf)[:,0],np.array(x_y_bf)[:,1]) # 牛肉湯\n",
        "#plt.scatter(np.array(x_y_nm)[:,0],np.array(x_y_nm)[:,1]) # 夜市\n",
        "#plt.scatter(np.array(x_y_pr)[:,0],np.array(x_y_pr)[:,1]) # 肉燥飯\n",
        "#plt.scatter(np.array(x_y_cn)[:,0],np.array(x_y_cn)[:,1]) # 便利商店\n",
        "plt.scatter(np.array(x_y_tr)[:,0],np.array(x_y_tr)[:,1]) # train station\n",
        "plt.scatter(np.array(x_y_Eel)[:,0],np.array(x_y_Eel)[:,1]) # Hotel\n",
        "plt.scatter(kmeans.cluster_centers_[:,0],kmeans.cluster_centers_[:,1])"
      ],
      "execution_count": 24,
      "outputs": [
        {
          "output_type": "execute_result",
          "data": {
            "text/plain": [
              "<matplotlib.collections.PathCollection at 0x7f1b10224128>"
            ]
          },
          "metadata": {
            "tags": []
          },
          "execution_count": 24
        },
        {
          "output_type": "display_data",
          "data": {
            "image/png": "[encoded data removed]",
            "text/plain": [
              "<Figure size 432x288 with 1 Axes>"
            ]
          },
          "metadata": {
            "tags": [],
            "needs_background": "light"
          }
        }
      ]
    },
    {
      "cell_type": "code",
      "metadata": {
        "id": "afZia2SJb8Jt",
        "outputId": "78043530-b2cd-4498-8b7d-ffb2749190d9",
        "colab": {
          "base_uri": "https://localhost:8080/",
          "height": 282
        }
      },
      "source": [
        "# plot the KM of daily demands store and calculate each cluster center \n",
        "kmeans = KMeans(n_clusters=7).fit(x_y_rs)\n",
        "plt.scatter(np.array(x_y_rs)[:,0],np.array(x_y_rs)[:,1], c=kmeans.labels_)\n",
        "#plt.scatter(kmeans.cluster_centers_[:,0],kmeans.cluster_centers_[:,1])\n",
        "plt.scatter(np.array(x_y_h)[:,0],np.array(x_y_h)[:,1])\n",
        "\n",
        "#plt.scatter(np.array(x_y_cn)[:,0],np.array(x_y_cn)[:,1])\n",
        "#plt.scatter(np.array(x_y_nm)[:,0],np.array(x_y_nm)[:,1])"
      ],
      "execution_count": 25,
      "outputs": [
        {
          "output_type": "execute_result",
          "data": {
            "text/plain": [
              "<matplotlib.collections.PathCollection at 0x7f1b101fd710>"
            ]
          },
          "metadata": {
            "tags": []
          },
          "execution_count": 25
        },
        {
          "output_type": "display_data",
          "data": {
            "image/png": "[encoded data removed]",
            "text/plain": [
              "<Figure size 432x288 with 1 Axes>"
            ]
          },
          "metadata": {
            "tags": [],
            "needs_background": "light"
          }
        }
      ]
    },
    {
      "cell_type": "markdown",
      "metadata": {
        "id": "KYeDTJ0-wln2"
      },
      "source": [
        "# Grouping the stores\n"
      ]
    },
    {
      "cell_type": "code",
      "metadata": {
        "id": "Bwjcwd131BHk",
        "outputId": "ff890d31-50d9-426d-c9cb-3990eae08c89",
        "colab": {
          "base_uri": "https://localhost:8080/"
        }
      },
      "source": [
        "[ [f'Group: {idx} ,', center ]  for idx , center in enumerate(kmeans.cluster_centers_)]"
      ],
      "execution_count": 26,
      "outputs": [
        {
          "output_type": "execute_result",
          "data": {
            "text/plain": [
              "[['Group: 0 ,', array([120.19347102,  22.97808337])],\n",
              " ['Group: 1 ,', array([120.23780087,  23.02699732])],\n",
              " ['Group: 2 ,', array([120.22860748,  22.98752553])],\n",
              " ['Group: 3 ,', array([120.19532757,  23.03690482])],\n",
              " ['Group: 4 ,', array([120.1690571 ,  22.99526288])],\n",
              " ['Group: 5 ,', array([120.23990803,  22.95767118])],\n",
              " ['Group: 6 ,', array([120.20533248,  23.00215255])]]"
            ]
          },
          "metadata": {
            "tags": []
          },
          "execution_count": 26
        }
      ]
    },
    {
      "cell_type": "code",
      "metadata": {
        "id": "eYDKnz_95qWt"
      },
      "source": [
        "# grouping the x_y data by KM result to specified group \n",
        "def Grouping_data_by_zone(data , KM_label , group ): \n",
        "\n",
        "  return [ ele for idx , ele in enumerate(data) if KM_label[idx] == group ]\n",
        "  \n",
        "# grouping the target stores by KM result \n",
        "def Grouing_target_store_by_zone(x_y_target , KM_center):\n",
        "\n",
        "  cluster_num = len(KM_center)\n",
        "  group = np.zeros(len(x_y_target))\n",
        "\n",
        "  for store_idx , position in enumerate(x_y_target):\n",
        "    min = 1000000000\n",
        "    for center_idx , cluster_center in enumerate(KM_center): \n",
        "      if distance(position , cluster_center) < min :\n",
        "        min = distance(position , cluster_center)\n",
        "        group_idx = center_idx\n",
        "\n",
        "    group[store_idx] = group_idx\n",
        "  return group"
      ],
      "execution_count": 27,
      "outputs": []
    },
    {
      "cell_type": "code",
      "metadata": {
        "id": "kSOyUbrmzfZ5",
        "outputId": "fd91bde2-7d8a-44d4-b259-cc469f0b1a79",
        "colab": {
          "base_uri": "https://localhost:8080/",
          "height": 282
        }
      },
      "source": [
        "data = x_y_rs\n",
        "group_idx = 3\n",
        "\n",
        "x_y_g = Grouping_data_by_zone(data , kmeans.labels_ , group_idx )\n",
        "plt.scatter(np.array(x_y_g)[:,0],np.array(x_y_g)[:,1])"
      ],
      "execution_count": 28,
      "outputs": [
        {
          "output_type": "execute_result",
          "data": {
            "text/plain": [
              "<matplotlib.collections.PathCollection at 0x7f1b0e410be0>"
            ]
          },
          "metadata": {
            "tags": []
          },
          "execution_count": 28
        },
        {
          "output_type": "display_data",
          "data": {
            "image/png": "[encoded data removed]",
            "text/plain": [
              "<Figure size 432x288 with 1 Axes>"
            ]
          },
          "metadata": {
            "tags": [],
            "needs_background": "light"
          }
        }
      ]
    },
    {
      "cell_type": "code",
      "metadata": {
        "id": "x3A3wNXjRx2X",
        "outputId": "915914b0-c6bc-4875-d22f-30d5ae84882f",
        "colab": {
          "base_uri": "https://localhost:8080/"
        }
      },
      "source": [
        "target_store_label = Grouing_target_store_by_zone( x_y_rs , KM_center = kmeans.cluster_centers_ ) # get the grouping label of target store\n",
        "store_rating_by_label = [ Grouping_data_by_zone( rating_rs , target_store_label , i ) for i in range(len(kmeans.cluster_centers_)) ] # by the grouping label , get the store ''information'' by zone\n",
        "store_rating_by_label_ave = [ np.average(np.array(rating_score)) for rating_score in store_rating_by_label ] # rating ave. of every zone \n",
        "store_rating_by_label_ave"
      ],
      "execution_count": 29,
      "outputs": [
        {
          "output_type": "execute_result",
          "data": {
            "text/plain": [
              "[4.306976744186047,\n",
              " 4.229130434782609,\n",
              " 4.3091205211726376,\n",
              " 4.1866666666666665,\n",
              " 4.2945,\n",
              " 4.1988304093567255,\n",
              " 4.301086956521739]"
            ]
          },
          "metadata": {
            "tags": []
          },
          "execution_count": 29
        }
      ]
    },
    {
      "cell_type": "code",
      "metadata": {
        "id": "OZlne6AJWV1A"
      },
      "source": [
        "g = 6\n",
        "store_name_by_label = [ Grouping_data_by_zone( name_rs , target_store_label , i ) for i in range(len(kmeans.cluster_centers_)) ]\n",
        "#for name , rat in zip(store_name_by_label[g] , store_rating_by_label[g]):\n",
        "  #print(f' The store name : {name} , and rating is : {rat}')"
      ],
      "execution_count": 30,
      "outputs": []
    },
    {
      "cell_type": "code",
      "metadata": {
        "id": "jAabR6t8LxmJ",
        "outputId": "68edee6c-602d-4a0c-bc0b-3696268179b6",
        "colab": {
          "base_uri": "https://localhost:8080/",
          "height": 449
        }
      },
      "source": [
        "# plot the grouping result of target stores\n",
        "plt.scatter(kmeans.cluster_centers_[:,0],kmeans.cluster_centers_[:,1])\n",
        "plt.scatter(x_y_bf[:,0] , x_y_bf[:,1] , c=group)"
      ],
      "execution_count": 31,
      "outputs": [
        {
          "output_type": "error",
          "ename": "TypeError",
          "evalue": "ignored",
          "traceback": [
            "\u001b[0;31m---------------------------------------------------------------------------\u001b[0m",
            "\u001b[0;31mTypeError\u001b[0m                                 Traceback (most recent call last)",
            "\u001b[0;32m<ipython-input-31-f42bb1a60e99>\u001b[0m in \u001b[0;36m<module>\u001b[0;34m()\u001b[0m\n\u001b[1;32m      1\u001b[0m \u001b[0;31m# plot the grouping result of target stores\u001b[0m\u001b[0;34m\u001b[0m\u001b[0;34m\u001b[0m\u001b[0;34m\u001b[0m\u001b[0m\n\u001b[1;32m      2\u001b[0m \u001b[0mplt\u001b[0m\u001b[0;34m.\u001b[0m\u001b[0mscatter\u001b[0m\u001b[0;34m(\u001b[0m\u001b[0mkmeans\u001b[0m\u001b[0;34m.\u001b[0m\u001b[0mcluster_centers_\u001b[0m\u001b[0;34m[\u001b[0m\u001b[0;34m:\u001b[0m\u001b[0;34m,\u001b[0m\u001b[0;36m0\u001b[0m\u001b[0;34m]\u001b[0m\u001b[0;34m,\u001b[0m\u001b[0mkmeans\u001b[0m\u001b[0;34m.\u001b[0m\u001b[0mcluster_centers_\u001b[0m\u001b[0;34m[\u001b[0m\u001b[0;34m:\u001b[0m\u001b[0;34m,\u001b[0m\u001b[0;36m1\u001b[0m\u001b[0;34m]\u001b[0m\u001b[0;34m)\u001b[0m\u001b[0;34m\u001b[0m\u001b[0;34m\u001b[0m\u001b[0m\n\u001b[0;32m----> 3\u001b[0;31m \u001b[0mplt\u001b[0m\u001b[0;34m.\u001b[0m\u001b[0mscatter\u001b[0m\u001b[0;34m(\u001b[0m\u001b[0mx_y_bf\u001b[0m\u001b[0;34m[\u001b[0m\u001b[0;34m:\u001b[0m\u001b[0;34m,\u001b[0m\u001b[0;36m0\u001b[0m\u001b[0;34m]\u001b[0m \u001b[0;34m,\u001b[0m \u001b[0mx_y_bf\u001b[0m\u001b[0;34m[\u001b[0m\u001b[0;34m:\u001b[0m\u001b[0;34m,\u001b[0m\u001b[0;36m1\u001b[0m\u001b[0;34m]\u001b[0m \u001b[0;34m,\u001b[0m \u001b[0mc\u001b[0m\u001b[0;34m=\u001b[0m\u001b[0mgroup\u001b[0m\u001b[0;34m)\u001b[0m\u001b[0;34m\u001b[0m\u001b[0;34m\u001b[0m\u001b[0m\n\u001b[0m",
            "\u001b[0;31mTypeError\u001b[0m: list indices must be integers or slices, not tuple"
          ]
        },
        {
          "output_type": "display_data",
          "data": {
            "image/png": "[encoded data removed]",
            "text/plain": [
              "<Figure size 432x288 with 1 Axes>"
            ]
          },
          "metadata": {
            "tags": [],
            "needs_background": "light"
          }
        }
      ]
    },
    {
      "cell_type": "code",
      "metadata": {
        "id": "mQ3-ICf_X_f0",
        "outputId": "fd5f7e7c-e9e7-4ee4-e3de-01c129b8e39b",
        "colab": {
          "base_uri": "https://localhost:8080/",
          "height": 216
        }
      },
      "source": [
        "# calculate the foucs_center where \"best-food\" is clutering at \n",
        "# TODO: need to modify due to new definition of target and surrounding stores\n",
        "x_focus , y_focus = (x*rating).sum() / rating.sum() , (y*rating).sum() / rating.sum()\n",
        "x_focus , y_focus"
      ],
      "execution_count": 32,
      "outputs": [
        {
          "output_type": "error",
          "ename": "NameError",
          "evalue": "ignored",
          "traceback": [
            "\u001b[0;31m---------------------------------------------------------------------------\u001b[0m",
            "\u001b[0;31mNameError\u001b[0m                                 Traceback (most recent call last)",
            "\u001b[0;32m<ipython-input-32-700932234f9d>\u001b[0m in \u001b[0;36m<module>\u001b[0;34m()\u001b[0m\n\u001b[1;32m      1\u001b[0m \u001b[0;31m# calculate the foucs_center where \"best-food\" is clutering at\u001b[0m\u001b[0;34m\u001b[0m\u001b[0;34m\u001b[0m\u001b[0;34m\u001b[0m\u001b[0m\n\u001b[1;32m      2\u001b[0m \u001b[0;31m# TODO: need to modify due to new definition of target and surrounding stores\u001b[0m\u001b[0;34m\u001b[0m\u001b[0;34m\u001b[0m\u001b[0;34m\u001b[0m\u001b[0m\n\u001b[0;32m----> 3\u001b[0;31m \u001b[0mx_focus\u001b[0m \u001b[0;34m,\u001b[0m \u001b[0my_focus\u001b[0m \u001b[0;34m=\u001b[0m \u001b[0;34m(\u001b[0m\u001b[0mx\u001b[0m\u001b[0;34m*\u001b[0m\u001b[0mrating\u001b[0m\u001b[0;34m)\u001b[0m\u001b[0;34m.\u001b[0m\u001b[0msum\u001b[0m\u001b[0;34m(\u001b[0m\u001b[0;34m)\u001b[0m \u001b[0;34m/\u001b[0m \u001b[0mrating\u001b[0m\u001b[0;34m.\u001b[0m\u001b[0msum\u001b[0m\u001b[0;34m(\u001b[0m\u001b[0;34m)\u001b[0m \u001b[0;34m,\u001b[0m \u001b[0;34m(\u001b[0m\u001b[0my\u001b[0m\u001b[0;34m*\u001b[0m\u001b[0mrating\u001b[0m\u001b[0;34m)\u001b[0m\u001b[0;34m.\u001b[0m\u001b[0msum\u001b[0m\u001b[0;34m(\u001b[0m\u001b[0;34m)\u001b[0m \u001b[0;34m/\u001b[0m \u001b[0mrating\u001b[0m\u001b[0;34m.\u001b[0m\u001b[0msum\u001b[0m\u001b[0;34m(\u001b[0m\u001b[0;34m)\u001b[0m\u001b[0;34m\u001b[0m\u001b[0;34m\u001b[0m\u001b[0m\n\u001b[0m\u001b[1;32m      4\u001b[0m \u001b[0mx_focus\u001b[0m \u001b[0;34m,\u001b[0m \u001b[0my_focus\u001b[0m\u001b[0;34m\u001b[0m\u001b[0;34m\u001b[0m\u001b[0m\n",
            "\u001b[0;31mNameError\u001b[0m: name 'x' is not defined"
          ]
        }
      ]
    },
    {
      "cell_type": "markdown",
      "metadata": {
        "id": "Pvstc8ShwdO3"
      },
      "source": [
        "# Density calculate"
      ]
    },
    {
      "cell_type": "code",
      "metadata": {
        "id": "PAefW65T2-Xe"
      },
      "source": [
        "# initialize items => name , source_name(after name-matching) , location , google_rating\n",
        "class Store(object):\n",
        "\n",
        "  def __init__(self , store_type = None , dicts = None):\n",
        "\n",
        "    self.store_type = store_type\n",
        "    if dicts is not None:\n",
        "      self.construct_attr_by_dict( dicts )\n",
        "  \n",
        "  def construct_attr_by_dict(self , store_dict):\n",
        "    \n",
        "    # basic property\n",
        "    self.name = store_dict['store_name']\n",
        "    self.location = store_dict['location']\n",
        "    self.rating = store_dict['rating']\n",
        "\n",
        "  def __repr__(self):\n",
        "    return f'{self.name} is at {self.location} and rating {self.rating} in googlemap '\n",
        "\n",
        "\n",
        "class Hotel(Store):\n",
        "\n",
        "  def __init__(self , store_type = 'hotel' , dicts = None):\n",
        "    super().__init__( store_type , dicts )\n",
        "\n",
        "  \n",
        "  def construct_attr_by_dict(self , store_dict):\n",
        "    super().construct_attr_by_dict( store_dict )\n",
        "\n",
        "    if 'room_source' in store_dict.keys():\n",
        "\n",
        "      self.room_source = store_dict['room_source']\n",
        "      self.source_name = store_dict['source_name']\n",
        "\n",
        "      if self.room_source == 'booking':\n",
        "        \n",
        "        if 'href' in store_dict.keys(): # check one of the keys is in dict\n",
        "          self.detail_href = store_dict['href']\n",
        "          self.comment_num = store_dict['comment_num']\n",
        "          self.star = store_dict['stars']\n",
        "          self.pic_link = store_dict['pic_link']\n",
        "          self.source_rating = store_dict['source_rating']\n",
        "\n",
        "          self.pics = store_dict['pics']\n",
        "          self.comments = store_dict['comments']\n",
        "        else:\n",
        "          print('Not contains more information !')\n",
        "\n",
        "      elif self.room_source == 'agoda':\n",
        "        pass\n",
        "      else:\n",
        "        pass\n",
        "\n",
        "  def construct_attr_by_request(self , date = None , instant = True):\n",
        "    \n",
        "    # return [ hotel_room_recommend , hotel_room_remainings , hotel_hot , hotel_price , hotel_instant_hrefs]\n",
        "    if instant:\n",
        "\n",
        "      instant_dict = get_hotel_information( self.source_name , date = date ,  instant_information = True ) \n",
        "      \n",
        "      self.room_recommend = instant_dict['room_recommend'] \n",
        "      self.room_remainings = instant_dict['room_remainings'] \n",
        "      self.hot = instant_dict['hot']\n",
        "      self.price = instant_dict['price']\n",
        "      self.instant_hrefs = instant_dict['instant_hrefs']\n",
        "    \n",
        "    else:\n",
        "      static_dict = get_hotel_information( self.source_name , date = date ,  instant_information = False )\n",
        "      \n",
        "      self.detail_href = static_dict['href']\n",
        "      self.comment_num = static_dict['comment_num']\n",
        "      self.star = static_dict['stars']\n",
        "      self.pic_link = static_dict['pic_link']\n",
        "      self.source_rating = static_dict['source_rating']\n",
        "      \n",
        "      static_dict_deatil = get_detail_hotel_information( self.detail_href )\n",
        "\n",
        "      self.pics = static_dict_deatil['pics']\n",
        "      self.comments = static_dict_deatil['comments']\n",
        "\n",
        "  def __repr__(self):\n",
        "    return super().__repr__()\n",
        "    \n",
        "    "
      ],
      "execution_count": 54,
      "outputs": []
    },
    {
      "cell_type": "code",
      "metadata": {
        "id": "16aW2Dptcqbx"
      },
      "source": [
        "# TODO : Transfer hotel data dicts into objects "
      ],
      "execution_count": null,
      "outputs": []
    },
    {
      "cell_type": "code",
      "metadata": {
        "id": "vDIUQKogeZKu"
      },
      "source": [
        "url = \"https://www.booking.com/searchresults.zh-tw.html\"\n",
        "\n",
        "#INPUT type scrape_time : ['2020-12-09' ,'2020-12-10']\n",
        "def get_header_payload(scrape_time , target_hotel = None ):\n",
        "\n",
        "  '''\n",
        "  # function : get the headers and payload by scrape time\n",
        "\n",
        "  target_hotel : if it's not assigned , scarpe all \"台南\" hotel \n",
        "\n",
        "  '''\n",
        "\n",
        "  check_in_time = scrape_time[0].split('-')\n",
        "  check_out_time = scrape_time[1].split('-')\n",
        "  \n",
        "  payload = {\n",
        "    'checkin_year': check_in_time[0] ,\n",
        "    'checkin_month': check_in_time[1] ,\n",
        "    'checkin_monthday': check_in_time[2] ,\n",
        "    'checkout_year': check_out_time[0] ,\n",
        "    'checkout_month': check_out_time[1] ,\n",
        "    'checkout_monthday': check_out_time[2] ,\n",
        "    'aid': '1288258', # need or not?\n",
        "    'label': 'label: metagha-link-mapresultsTW-hotel-2468603_dev-desktop_los-1_bw-18_dow-Monday_defdate-0_room-0_lang-zh_curr-TWD_gstadt-2_rateid-0_aud-0_cid-_gacid-6642513825_mcid-10_ppa-0_clrid-0_ad-1_gstkid-0', # need or not?\n",
        "    'sid': 'ab79516c4eea1e96b378b9c2338022ce', # need or not?\n",
        "    'sb': '1', # need or not?\n",
        "    'src': 'searchresults', \n",
        "    'src_elem': 'sb', # need or not?\n",
        "    'ss': target_hotel if target_hotel else '台南', \n",
        "    'ssne': None if target_hotel else '台南', # place you want to search (encode)\n",
        "    'ssne_untouched': None if target_hotel else '台南' , # place you want to search (encode)\n",
        "    'is_ski_area': '0', # need or not?\n",
        "    'dest_type': None if target_hotel else 'city', \n",
        "    'dest_id': None if target_hotel else '-2637868', # place id you want to search \n",
        "    'group_adults': '2', # number of people\n",
        "    'group_children': '0', # number of children\n",
        "    'no_rooms': '1', # number of rooms\n",
        "    'from_sf': '1', # ???\n",
        "    'ac_langcode': 'xt'\n",
        "\n",
        "  }\n",
        "\n",
        "  headers = {    \n",
        "    'User-Agent': 'Mozilla/5.0 (Windows NT 10.0; Win64; x64) AppleWebKit/537.36 (KHTML, like Gecko) Chrome/86.0.4240.111 Safari/537.36', # can be generate fake agent ??\n",
        "    'Accept': 'text/html,application/xhtml+xml,application/xml;q=0.9,image/avif,image/webp,image/apng,*/*;q=0.8,application/signed-exchange;v=b3;q=0.9',\n",
        "    'error_url': \"https://www.booking.com/index.zh-tw.html?aid=1288258;label=metagha-link-mapresultsTW-hotel-2468603_dev-desktop_los-1_bw-18_dow-Monday_defdate-0_room-0_lang-zh_curr-TWD_gstadt-2_rateid-0_aud-0_cid-_gacid-6642513825_mcid-10_ppa-0_clrid-0_ad-1_gstkid-0;sid=ab79516c4eea1e96b378b9c2338022ce;sb_price_type=total;srpvid=f1b826d7eb680028&;\",\n",
        "    'content-security-policy-report-only': \"report-uri https://csp-receiver.booking.com/csp_violation?type=report&tag=112&pid=040f2610ef80010a&e=UmFuZG9tSVYkc2RlIyh9YRdubXl3m7MIPItwv4TRRzARPrDvNuzlrbfIvmyYAyhkeKKOaHLiHXalz9oYwBjSNw&f=2&s=0; frame-ancestors 'none';\",\n",
        "    'Referer' : 'https://www.booking.com/index.zh-tw.html?aid=376396&label=booking-name-yefrPbbyS%2AFIINHgyCnmNgS267725091255%3Apl%3Ata%3Ap1%3Ap22%2C563%2C000%3Aac%3Aap%3Aneg%3Afi%3Atikwd-65526620%3Alp1012818%3Ali%3Adec%3Adm%3Appccp%3DUmFuZG9tSVYkc2RlIyh9YfqnDqqG8nt1O4nYvDr1lms&sid=99dd5960476d5bf057cf94fe33e3deb6&srpvid=6d1e3723a19e0104&click_from_logo=1',\n",
        "    'Host': 'www.booking.com',    \n",
        "    'Upgrade-Insecure-Requests': '1',\n",
        "    'Accept-Language': 'zh-TW,zh;q=0.9,en-US;q=0.8,en;q=0.7',\n",
        "    'Cache-Control': 'max-age=0',\n",
        "    'Sec-Fetch-Dest': 'document',\n",
        "    'Sec-Fetch-Mode': 'navigate',\n",
        "    'Sec-Fetch-Site': 'same-origin',\n",
        "    'Sec-Fetch-User': '?1' ,\n",
        "    'Connection': 'keep-alive'\n",
        "  }\n",
        "  \n",
        "  return payload , headers\n",
        "\n",
        "# check target information in search result or not\n",
        "def check_alive_or_not( search_result , text = True , tag  = None , msg_if_none = None ):\n",
        "  '''\n",
        "  text : if True , get text in tag ; if False , get tag property\n",
        "\n",
        "  tag : if not none , get property of that tag\n",
        "  '''\n",
        "  if not search_result:\n",
        "    return msg_if_none\n",
        "  return search_result.text if text else search_result[tag]\n",
        "\n",
        "\n",
        "# get information of hotels\n",
        "def get_hotel_information( hotel_name , date = None ,  instant_information = False ):\n",
        "\n",
        "  '''\n",
        "  #function : get hotel information including non-instant or instant data by hotel_name\n",
        "\n",
        "  hotel_name : enter name of hotel in \"booking or agoda\" website\n",
        "\n",
        "  instant_information : if True , get instant information ( price , avaliable number of rooms , room_recommend )\n",
        "\n",
        "  date : day to check-in and check-out , ex: ['2020-12-10','2020-12-11']\n",
        "\n",
        "  '''\n",
        "\n",
        "  date = date if instant_information else ['2020-12-10','2020-12-11']\n",
        "\n",
        "  payload , headers = get_header_payload( date , target_hotel = hotel_name )\n",
        "  res = requests.post( url, data = payload , headers = headers)\n",
        "  res_text = res.content\n",
        "  soup = BeautifulSoup( res_text , \"html.parser\")\n",
        "\n",
        "  soup_content = soup.find_all( \"div\" , { 'class' : \"sr_item_content sr_item_content_slider_wrapper \"})[0]\n",
        "  soup_pic = soup.find_all( \"div\" , { 'class' : \"sr_item_photo sr_card_photo_wrapper\"})[0]\n",
        "    \n",
        "  return extract_informations_from_soup( soup_content , soup_pic , instant_information )\n",
        "\n",
        "# extract information from soup\n",
        "def extract_informations_from_soup( soup_content , soup_pic , instant_information = False ):\n",
        "\n",
        "  '''\n",
        "  # function : extract information from soup\n",
        "\n",
        "  soup_content , soup_pic : content of soup\n",
        "\n",
        "  instant_information : if True , get instant information ( price , avaliable number of rooms , room_recommend )\n",
        "  '''\n",
        "\n",
        "  # p class=\"simple_av_calendar_no_av sold_out_msg\"\n",
        "  if instant_information :\n",
        "    ### get below <div class=\"sr_item_content sr_item_content_slider_wrapper \">\n",
        "\n",
        "    room_soldout = bool(soup_content.find('p' , { 'class' : \"simple_av_calendar_no_av sold_out_msg\"}))\n",
        "    if room_soldout:\n",
        "      return {'room_recommend' : None ,\n",
        "           'room_remainings' : None ,\n",
        "           'hot' : None ,\n",
        "           'price' : None ,\n",
        "           'instant_hrefs' : None }\n",
        "\n",
        "    hotel_room_recommend = soup_content.find('div', {'class':\"room_link\"}).find('strong').text # get the recommend romm type  (instant information)\n",
        "    hotel_room_remainings = check_alive_or_not(soup_content.find('span', {'class':\"only_x_left sr_rooms_left_wrap \"}), msg_if_none = '房源還很充足!' ).rstrip(\"\\n\").strip(\"\\n\") # get remaining rooms (instant information)\n",
        "    hotel_hot = check_alive_or_not(soup_content.find('div' , {'class' : 'rollover-s1 lastbooking'}) , msg_if_none = '快上網站訂房!').rstrip(\"\\n\").strip(\"\\n\") # get the hot of hotels (instant information) 不是每個hotel都有此block !!!!!\n",
        "    hotel_price = soup_content.find('div' , {'class' : \"bui-price-display__value prco-inline-block-maker-helper\" }).text.rstrip(\"\\n\").strip(\"\\n\") # get hotels price (instant information)\n",
        "    hotel_instant_hrefs = soup_content.find('a', {'class':\"js-sr-hotel-link hotel_name_link url\"})['href'].strip(\"\\n\") # get room_hrefs\n",
        "\n",
        "    # !!BUGS: price 部分有 /xa0124 encode 的問題\n",
        "    return {'room_recommend' : hotel_room_recommend ,\n",
        "          'room_remainings' : hotel_room_remainings ,\n",
        "          'hot' : hotel_hot ,\n",
        "          'price' : \"\".join(hotel_price.split()) , # remove /xa0 \n",
        "          'instant_hrefs' : hotel_instant_hrefs }\n",
        "\n",
        "\n",
        "  else :\n",
        "    ### get below <div class=\"sr_item_content sr_item_content_slider_wrapper \">\n",
        "    hotel_name = soup_content.find('span', {'class':\"sr-hotel__name \"}).string.rstrip(\"\\n\").strip(\"\\n\") # get hotels\n",
        "    hotel_hrefs = soup_content.find('a', {'class':\"js-sr-hotel-link hotel_name_link url\"})['href'].strip(\"\\n\") # get room_hrefs \n",
        "    # these items below may not exist\n",
        "    hotel_rating = check_alive_or_not( soup_content.find( \"div\" , { 'class' : \"bui-review-score__badge\"}) )\n",
        "    hotel_comment_num = check_alive_or_not( soup_content.find('div' , {\"class\" : \"bui-review-score__text\"}) ) # get # of comments \n",
        "    hotel_star = check_alive_or_not( soup_content.find('span' , {'class' : \"bui-rating bui-rating--smaller\" }) , text = False , tag = 'aria-label') # get star of hotel \n",
        "\n",
        "    ### get below <div class=\"sr_item_photo sr_card_photo_wrapper\" id=\"hotel_5621655\">\n",
        "    hotel_pic_link = soup_pic.find('img' , {'class' : \"hotel_image\" })['data-highres'] # get hotel review pic\n",
        "\n",
        "    return {'source_name' : hotel_name ,\n",
        "        \"href\": hotel_hrefs , \n",
        "        \"comment_num\": hotel_comment_num ,\n",
        "        \"stars\": hotel_star ,\n",
        "        \"pic_link\": hotel_pic_link ,\n",
        "        \"source_rating\": hotel_rating }\n",
        "\n",
        "\n",
        "def get_detail_hotel_information( hotel_href ):\n",
        "\n",
        "  '''\n",
        "  # function : get detail hotel information by inner pages\n",
        "\n",
        "  hotel_href : the url to inner pages\n",
        "  \n",
        "  '''\n",
        "\n",
        "  header_url = \"https://www.booking.com\"\n",
        "  new_path = header_url + hotel_href\n",
        "\n",
        "  res = requests.get(new_path)\n",
        "  res = res.content\n",
        "  soup = BeautifulSoup(res)\n",
        "\n",
        "  soup_sub = soup.find('div' , { 'class' : \" clearfix bh-photo-grid fix-score-hover-opacity \"})\n",
        "  soup_comment = soup_sub.find_all( 'p' , { 'class' : 'trackit althotelsReview2 fixed_review_height fixed_review_top_align review_content'})\n",
        "  comments = [ item.text.rstrip(\"\\n\").strip(\"\\n\") for item in soup_comment ] \n",
        "\n",
        "  soup_pic = soup_sub.find_all(\"a\" , { 'class' : 'bh-photo-grid-item'})\n",
        "  pics = [ item['href'] for item in soup_pic ]\n",
        "\n",
        "  return { 'comments' : comments , \n",
        "        'pics' : pics }\n",
        "          "
      ],
      "execution_count": 44,
      "outputs": []
    },
    {
      "cell_type": "code",
      "metadata": {
        "id": "qyw_e6lMbp6b",
        "outputId": "a59d1e32-ac23-4602-8d3e-0f3e6ec17754",
        "colab": {
          "base_uri": "https://localhost:8080/"
        }
      },
      "source": [
        "data_hotel[0]"
      ],
      "execution_count": 35,
      "outputs": [
        {
          "output_type": "execute_result",
          "data": {
            "text/plain": [
              "{'comment_num': ' 425 則評語 ',\n",
              " 'comments': ['服務人員非常親切，環境也算乾淨舒適。',\n",
              "  '房間很乾淨也很舒適，但對早餐蠻失望的',\n",
              "  '早餐很好，地點很好，房間很大',\n",
              "  '很新的飯店，寬敞舒適，住起來很舒服，五樓交誼廳若能增添更多設施會更讚！',\n",
              "  '下次去台南一定會再入住',\n",
              "  '早餐好吃,但樣式不多。',\n",
              "  '房間寬敞、床大、枕頭好睡、好停車。\\n房間長桌，長椅用料實在。\\n整體裝潢用心 喜歡原木裝潢和壁上裝飾。\\nCP算高的，唯人手不足恐有防疫漏洞。',\n",
              "  '早餐豐富，房間乾淨',\n",
              "  '床，非常好👍',\n",
              "  '比預期的大和乾淨，蠻喜歡的!'],\n",
              " 'href': '/hotel/tw/li-xin-da-fan-dian.zh-tw.html?aid=1288258&label=label%3A%20metagha-link-mapresultsTW-hotel-2468603_dev-desktop_los-1_bw-18_dow-Monday_defdate-0_room-0_lang-zh_curr-TWD_gstadt-2_rateid-0_aud-0_cid-_gacid-6642513825_mcid-10_ppa-0_clrid-0_ad-1_gstkid-0&sid=13860737db79e4021bd89c57ba1018aa&all_sr_blocks=371139401_262369040_0_1_0&checkin=2020-12-10&checkout=2020-12-11&dest_id=-2641019&dest_type=city&group_adults=2&group_children=0&hapos=1&highlighted_blocks=371139401_262369040_0_1_0&hpos=1&no_rooms=1&sr_order=popularity&sr_pri_blocks=371139401_262369040_0_1_0__259200&srepoch=1604047923&srpvid=19cc3e596f1a0104&ucfs=1&from=searchresults\\n;highlight_room=#hotelTmpl',\n",
              " 'location': [120.2451357, 23.0415007],\n",
              " 'pic_link': 'https://cf.bstatic.com/xdata/images/hotel/square600/153699956.webp?k=6b981acd2edb851f1d1399a6f241e4d962aa330c82a852f7f43a344e20ed2405&o=',\n",
              " 'pics': ['https://cf.bstatic.com/images/hotel/max1024x768/153/153699956.jpg',\n",
              "  'https://cf.bstatic.com/images/hotel/max1024x768/253/253022880.jpg',\n",
              "  'https://cf.bstatic.com/images/hotel/max1024x768/253/253022846.jpg',\n",
              "  'https://cf.bstatic.com/images/hotel/max1024x768/253/253021651.jpg',\n",
              "  'https://cf.bstatic.com/images/hotel/max1024x768/150/150366315.jpg',\n",
              "  'https://cf.bstatic.com/images/hotel/max1024x768/151/151695121.jpg',\n",
              "  'https://cf.bstatic.com/images/hotel/max1024x768/153/153699400.jpg',\n",
              "  'https://cf.bstatic.com/images/hotel/max1024x768/153/153719644.jpg'],\n",
              " 'rating': 4,\n",
              " 'room_source': 'booking',\n",
              " 'source_name': '麗新大酒店',\n",
              " 'source_rating': ' 8.4 ',\n",
              " 'stars': '4 out of 5',\n",
              " 'store_name': '麗新大酒店'}"
            ]
          },
          "metadata": {
            "tags": []
          },
          "execution_count": 35
        }
      ]
    },
    {
      "cell_type": "code",
      "metadata": {
        "id": "mpZJKskhKT8c",
        "outputId": "5e2fafe5-01a2-4e8b-bcbb-e174f6899be6",
        "colab": {
          "base_uri": "https://localhost:8080/"
        }
      },
      "source": [
        "data_hotel[1]"
      ],
      "execution_count": 36,
      "outputs": [
        {
          "output_type": "execute_result",
          "data": {
            "text/plain": [
              "{'location': [120.2401455, 23.0412922],\n",
              " 'rating': 4.3,\n",
              " 'room_source': None,\n",
              " 'store_name': 'Justwin Grand Hotel'}"
            ]
          },
          "metadata": {
            "tags": []
          },
          "execution_count": 36
        }
      ]
    },
    {
      "cell_type": "code",
      "metadata": {
        "id": "88zbp01P0N6w"
      },
      "source": [
        "# Calculate local density of stores\n",
        "def local_density(\n",
        "        data ,            # form = [ [lng1 , lat1] , [lng2 , lat2] , ..... ]\n",
        "        rating = None ,           # ratings = [ rating1 , rating2 , ..... ]\n",
        "        rating_depent = False , \n",
        "        group_idx = None ,     # if it's none setting , start point is defalut as \"Tainan Train Station\"\n",
        "        start_point = None ,    # start point of scan\n",
        "        jump_distance = 100 ,   # interval of scan spot\n",
        "        ranging = 20 ,       # scan range\n",
        "        scan_radius = 300 ,    # scan radius of circle or side length of rectangle\n",
        "        scan_shape = \"circle\" ,  # shape of scan area \n",
        "        KM_center = None ,     #\n",
        "        ):\n",
        "  \n",
        "  #transform density array to matrix\n",
        "  def density_matrix_form(density_array):\n",
        "\n",
        "    '''\n",
        "    now data process direction :\n",
        "    y axis : lat\n",
        "    x axis : lng\n",
        "      --------- y axis (j) -------> \n",
        "      |\n",
        "      x\n",
        "\n",
        "      a\n",
        "      x\n",
        "      i\n",
        "      s\n",
        "\n",
        "      (i)\n",
        "      |\n",
        "      V\n",
        "    '''\n",
        "    d = np.zeros(( int((len(density_array))**0.5) , int((len(density_array))**0.5 ))) # get the length of grid square\n",
        "    p = np.zeros(( int((len(density_array))**0.5) , int((len(density_array))**0.5 ))).tolist()\n",
        "    i , j = 0 , -1 \n",
        "\n",
        "    for idx , (posi , densi) in enumerate(sorted(density_array , key = lambda x : x[0])):\n",
        "\n",
        "      if idx == 0:\n",
        "        dummy_x = posi[0]\n",
        "      if dummy_x == posi[0]: #if lng not change ,only change the write-in row(j+)\n",
        "        j+=1  \n",
        "      else: #if lng change , change the write-in column(i+)\n",
        "        i+=1\n",
        "        j=0\n",
        "        dummy_x = posi[0]\n",
        "      d[i][j] = densi\n",
        "      p[i][j] = posi # how to rotate 90 degree ???\n",
        "    p = np.array(p)\n",
        "\n",
        "    return np.rot90(d , k=1) , np.rot90(p, k=1, axes = (0,1)) # rotate 90' counterclockwise to fit x-y direction\n",
        "\n",
        "  # initialize density list ,Rho ,start point\n",
        "  density = [] \n",
        "  MAX_Rho , MAX_position = 0 , None # max Rho and position \n",
        "  criteria = scan_radius # grab data point if data is in criteria range \n",
        "  start_point = {\"lng\" : KM_center[group_idx][0] , \n",
        "          \"lat\" : KM_center[group_idx][1] } if group_idx and KM_center else start_point  \n",
        "\n",
        "  # initialize grids , judge function\n",
        "  scan_mode = 'full_cover' if ranging > 0 else 'normal' # if ranging = 0 , single point scan , using normal mode for grid \n",
        "  grid_positions = grid_generator(start_point , radius = jump_distance , ranging = ranging , mode = scan_mode) # set search grids initialization\n",
        "  grid_positions = [ [ position[\"lng\"] , position[\"lat\"] ] for position in grid_positions ]\n",
        "  judge_func = lambda x , pos : distance(x[0] ,pos) < criteria if scan_shape == \"circle\" else abs(x[0][0]-pos[0])*lng_1 < criteria and abs(x[0][1]-pos[1])*lat_1 < criteria # Else : rectangle shape search\n",
        "  # x[0] present position , x[1] present rating!\n",
        "  \n",
        "  for now_position in grid_positions:\n",
        "    judge_func = partial( judge_func , pos = now_position) # use partial func to pre-init params pos => https://wiki.jikexueyuan.com/project/explore-python/Functional/partial.html\n",
        "    position_filter = list( filter( judge_func , zip(data , rating) ) )  # get # of points inside circle or rectangle    \n",
        "    # TODO: 這地方直接綁 store object 似乎更好? 直接 filter( judge_func , object ) 出來 , output 是符合條件的 objects !!!\n",
        "    # 也不會有 judge function 那邊 x[0] 這種還要給 index 的狀況出現 !! 可改成 lambda x , pos : distance( object.location ,pos) < criteria\n",
        "    # 這樣 lambda function 就可以獨立出來 ,跟 store_filter_by_radius function 做結合!!!\n",
        "\n",
        "    store_counts = [ rating_modify(point[1])/512 if rating_depent and rating else 1 for point in position_filter ] #point[1] is the rating score (consider into Rho calculate) ;if not consider rating_depent ,set as 1\n",
        "    Rho = sum(store_counts)/(math.pi*(scan_radius/1000)**2) if scan_shape == \"circle\" else sum(store_counts)/((2*scan_radius/1000)**2) # calculate density\n",
        "\n",
        "    #store data\n",
        "    density.append(  [now_position , Rho ] ) \n",
        "    (MAX_Rho , MAX_position) = (Rho , now_position) if Rho > MAX_Rho else (MAX_Rho , MAX_position)  # store max value\n",
        "\n",
        "  print(f'MAX_Rho = {MAX_Rho} , MAX_position = {MAX_position}')\n",
        "\n",
        "  return density_matrix_form(density) , MAX_Rho , MAX_position "
      ],
      "execution_count": null,
      "outputs": []
    },
    {
      "cell_type": "code",
      "metadata": {
        "id": "6qkNk2Pad3kO",
        "outputId": "2707883b-5f12-4639-d09c-3860ccd4d203",
        "colab": {
          "base_uri": "https://localhost:8080/"
        }
      },
      "source": [
        "# density heatmap resturants\n",
        "density_position_rs  , MAX_Rho_rs , MAX_position_rs = local_density( x_y_rs , rating = rating_rs , rating_depent = True ,  scan_shape = 'rectan' , ranging = 40 , start_point=location )\n",
        "density_rs = density_position_rs[0]\n",
        "position_rs = density_position_rs[1]"
      ],
      "execution_count": null,
      "outputs": [
        {
          "output_type": "stream",
          "text": [
            "MAX_Rho = 33.36046006944444 , MAX_position = [120.1628957084989, 23.00034146073686]\n"
          ],
          "name": "stdout"
        }
      ]
    },
    {
      "cell_type": "code",
      "metadata": {
        "id": "lLiSiGZsxtSf",
        "outputId": "0e9e7b26-9d4c-416d-86b4-e1004b5b0379",
        "colab": {
          "base_uri": "https://localhost:8080/",
          "height": 295
        }
      },
      "source": [
        "sns.heatmap(density_rs) # heat map of resturants density"
      ],
      "execution_count": null,
      "outputs": [
        {
          "output_type": "execute_result",
          "data": {
            "text/plain": [
              "<matplotlib.axes._subplots.AxesSubplot at 0x7f70629da470>"
            ]
          },
          "metadata": {
            "tags": []
          },
          "execution_count": 82
        },
        {
          "output_type": "display_data",
          "data": {
            "image/png": "[encoded data removed]",
            "text/plain": [
              "<Figure size 432x288 with 2 Axes>"
            ]
          },
          "metadata": {
            "tags": [],
            "needs_background": "light"
          }
        }
      ]
    },
    {
      "cell_type": "code",
      "metadata": {
        "id": "nIQqK6mh0ZvX",
        "outputId": "64dddcd0-cc38-434b-fa25-af7a51980a60",
        "colab": {
          "base_uri": "https://localhost:8080/"
        }
      },
      "source": [
        "np.where(density_position_rs[0] == MAX_Rho_rs) # find hightest density position of resturants"
      ],
      "execution_count": null,
      "outputs": [
        {
          "output_type": "execute_result",
          "data": {
            "text/plain": [
              "(array([70]), array([45]))"
            ]
          },
          "metadata": {
            "tags": []
          },
          "execution_count": 83
        }
      ]
    },
    {
      "cell_type": "code",
      "metadata": {
        "id": "YT8_MY80RM_y",
        "outputId": "5bb910fd-3395-4f10-8865-844f2ebaa0f9",
        "colab": {
          "base_uri": "https://localhost:8080/"
        }
      },
      "source": [
        "# density heatmap of hotels\n",
        "density_position_h  , MAX_Rho_h , MAX_position_h = local_density( x_y_h , rating = rating_h , rating_depent = False ,  scan_shape = 'rectan' , ranging = 40 , start_point=location )\n",
        "density_h = density_position_h[0]\n",
        "position_h = density_position_h[1]"
      ],
      "execution_count": null,
      "outputs": [
        {
          "output_type": "stream",
          "text": [
            "MAX_Rho = 152.77777777777777 , MAX_position = [120.19703654745831, 22.996729396442117]\n"
          ],
          "name": "stdout"
        }
      ]
    },
    {
      "cell_type": "code",
      "metadata": {
        "id": "fsGt2sQEfw1x",
        "outputId": "7f6bc4a6-934a-41fb-ceda-5085a25dbad3",
        "colab": {
          "base_uri": "https://localhost:8080/",
          "height": 295
        }
      },
      "source": [
        "sns.heatmap(density_h) # heat map of hotels density"
      ],
      "execution_count": null,
      "outputs": [
        {
          "output_type": "execute_result",
          "data": {
            "text/plain": [
              "<matplotlib.axes._subplots.AxesSubplot at 0x7f706dcee9b0>"
            ]
          },
          "metadata": {
            "tags": []
          },
          "execution_count": 30
        },
        {
          "output_type": "display_data",
          "data": {
            "image/png": "[encoded data removed]",
            "text/plain": [
              "<Figure size 432x288 with 2 Axes>"
            ]
          },
          "metadata": {
            "tags": [],
            "needs_background": "light"
          }
        }
      ]
    },
    {
      "cell_type": "code",
      "metadata": {
        "id": "Dt0S85Pdfy9r",
        "outputId": "e49f011e-b652-4521-c67c-2e77c6df74d0",
        "colab": {
          "base_uri": "https://localhost:8080/"
        }
      },
      "source": [
        "np.where(density_position_h[0] == MAX_Rho_h) # find hightest density position of hotels"
      ],
      "execution_count": null,
      "outputs": [
        {
          "output_type": "execute_result",
          "data": {
            "text/plain": [
              "(array([74]), array([80]))"
            ]
          },
          "metadata": {
            "tags": []
          },
          "execution_count": 31
        }
      ]
    },
    {
      "cell_type": "code",
      "metadata": {
        "id": "VEl_U5NE4oNg",
        "outputId": "8a26dbe7-94a7-4013-a53d-18b0588072f3",
        "colab": {
          "base_uri": "https://localhost:8080/"
        }
      },
      "source": [
        "# density heatmap of convenience stores\n",
        "density_position_cn  , MAX_Rho_cn , MAX_position_cn = local_density( x_y_cn , rating = rating_cn  , rating_depent = False ,  scan_shape = 'rectan' , ranging = 40 , start_point=location )\n",
        "density_cn = density_position_cn[0]\n",
        "position_cn = density_position_cn[1]"
      ],
      "execution_count": null,
      "outputs": [
        {
          "output_type": "stream",
          "text": [
            "MAX_Rho = 25.0 , MAX_position = [120.22532467116754, 23.020207814357956]\n"
          ],
          "name": "stdout"
        }
      ]
    },
    {
      "cell_type": "code",
      "metadata": {
        "id": "5AMziG8g5Aux",
        "outputId": "87df5d08-b4c9-4832-adb1-2dcd05aeb9ec",
        "colab": {
          "base_uri": "https://localhost:8080/",
          "height": 295
        }
      },
      "source": [
        "sns.heatmap(density_cn) # heat map of convenience stores density"
      ],
      "execution_count": null,
      "outputs": [
        {
          "output_type": "execute_result",
          "data": {
            "text/plain": [
              "<matplotlib.axes._subplots.AxesSubplot at 0x7f706cce3cc0>"
            ]
          },
          "metadata": {
            "tags": []
          },
          "execution_count": 33
        },
        {
          "output_type": "display_data",
          "data": {
            "image/png": "[encoded data removed]",
            "text/plain": [
              "<Figure size 432x288 with 2 Axes>"
            ]
          },
          "metadata": {
            "tags": [],
            "needs_background": "light"
          }
        }
      ]
    },
    {
      "cell_type": "code",
      "metadata": {
        "id": "Ahdm0YxO5GPB",
        "outputId": "608de900-1cc7-4328-b855-931e268417be",
        "colab": {
          "base_uri": "https://localhost:8080/"
        }
      },
      "source": [
        "np.where(density_position_cn[0] == MAX_Rho_cn) # find hightest density position of hotels"
      ],
      "execution_count": null,
      "outputs": [
        {
          "output_type": "execute_result",
          "data": {
            "text/plain": [
              "(array([46, 46, 48]), array([106, 107, 109]))"
            ]
          },
          "metadata": {
            "tags": []
          },
          "execution_count": 34
        }
      ]
    },
    {
      "cell_type": "markdown",
      "metadata": {
        "id": "6NoYlwe2g8hP"
      },
      "source": [
        "# finding the top10 hightest density position \"consider hotels distribution\"\n"
      ]
    },
    {
      "cell_type": "code",
      "metadata": {
        "id": "j6m64o-Ngc-0"
      },
      "source": [
        "# finding the top10 hightest density position \"consider hotels distribution\"\n",
        "def search_peak(**kwargs):\n",
        "\n",
        "  '''\n",
        "  function : search peaks from density grid maps\n",
        "\n",
        "  **kwargs : the density maps you want to consider , ex : (density_rs = density_rs , density_h = density_h .. )\n",
        "\n",
        "  return : peaks with [ position_x(grid) ,position_y(grid) , density of resturant center , scors of center]\n",
        "\n",
        "  '''\n",
        "\n",
        "  # Importance : resturant > hotel > convenience store > beef soup > pork rice \n",
        "\n",
        "\n",
        "  # intial data of train_station \n",
        "  station_position = data_train_station[0]['location'] # r square inverse ?\n",
        "\n",
        "\n",
        "  # initialize data of density\n",
        "  peaks = []\n",
        "  density_stack = np.array([ density for _ , density in kwargs.items() ])\n",
        "  density_name = [ name.split('_')[1] for name in kwargs.keys() ]\n",
        "  shape_W_L = density_stack.shape[1]\n",
        "\n",
        "  for i in range(shape_W_L):\n",
        "    for j in range(shape_W_L):\n",
        "\n",
        "      surrounding = [ [k,l] for k in range(i-1,i+2) for l in range(j-1,j+2) if (k!=i or l!=j) and (shape_W_L>k>0 and shape_W_L>l>0) ] # find surranding 8 positions\n",
        "      density_surrounding = [ density_stack[ : , pos_x , pos_y] for pos_x , pos_y in surrounding ]\n",
        "      score_surroundig = [ reduce(lambda x,y: x+y, densitys) for densitys in density_surrounding ] # function.tools reduce method : https://www.itread01.com/content/1547813009.html\n",
        "      \n",
        "\n",
        "      # TODO : 把 socring 計算拆開成獨立函數 , 並在其中加入 weighting 計算式機制!!!\n",
        "\n",
        "\n",
        "      density_center = density_stack[ : , i , j ]\n",
        "      score_center = reduce(lambda x,y: x+y, density_center) # 這邊可針對不同類型store的重要度, 給不同的 wighting , ex: 沒 con 絕對不行 , 則評分就變 (hotel + rs)*con => con=0 ,score 直接變成 0    \n",
        "\n",
        "      if len(list(filter(lambda x : x < score_center , score_surroundig) )) == 8 :\n",
        "        peaks.append([ i , j , density_center[0], density_center[1] , density_center[2] , distance(grid_to_latlng[i][j],station_position)/1000 ,score_center/(distance(position_rs[i][j],station_position)/1000) ])\n",
        "      else:\n",
        "\n",
        "        continue\n",
        "\n",
        "  return peaks\n",
        "\n",
        "def store_filter_by_radius( data , center , radius , return_store_position = False):\n",
        "\n",
        "  filter_position = [ position for position in data if distance( center , position ) < radius ]\n",
        "  \n",
        "  return len(filter_position) if not return_store_position else len(filter_position) , filter_position"
      ],
      "execution_count": null,
      "outputs": []
    },
    {
      "cell_type": "code",
      "metadata": {
        "id": "m1F8gJckzNpi"
      },
      "source": [
        "peaks = search_peak(density_rs = density_rs ,density_h = density_h , density_cn = density_cn)"
      ],
      "execution_count": null,
      "outputs": []
    },
    {
      "cell_type": "code",
      "metadata": {
        "id": "eMSpATPhkZm2",
        "outputId": "28eeb158-4220-4282-d534-e726c3f5d52d",
        "colab": {
          "base_uri": "https://localhost:8080/"
        }
      },
      "source": [
        "peak_position = []\n",
        "\n",
        "for peak in sorted(peaks , reverse=True , key = lambda x : x[6]):\n",
        "  print(peak,grid_to_latlng[peak[0]][peak[1]])\n",
        "  peak_position.append(grid_to_latlng[peak[0]][peak[1]])"
      ],
      "execution_count": null,
      "outputs": [
        {
          "output_type": "stream",
          "text": [
            "[75, 96, 8.940972222222223, 52.77777777777778, 13.88888888888889, 0.14807264027489397, 510.6118101799548] [120.21264379  22.99582638]\n",
            "[74, 93, 9.027777777777779, 80.55555555555556, 16.666666666666668, 0.30376768368655876, 349.7738755832683] [120.20971743  22.9967294 ]\n",
            "[74, 86, 19.661458333333336, 119.44444444444444, 16.666666666666668, 1.0010945989490518, 155.60224738798343] [120.20288926  22.9967294 ]\n",
            "[77, 91, 10.633680555555555, 72.22222222222223, 11.11111111111111, 0.6091750695991557, 154.25288817337895] [120.20776653  22.99402035]\n",
            "[77, 89, 7.465277777777778, 88.88888888888889, 8.333333333333334, 0.7817097596881969, 133.92118839830914] [120.20581562  22.99402035]\n",
            "[80, 91, 9.071180555555555, 91.66666666666667, 8.333333333333334, 0.8184973074001318, 133.25783673254634] [120.20776653  22.9913113 ]\n",
            "[77, 98, 6.076388888888889, 27.77777777777778, 11.11111111111111, 0.4014706403068452, 112.00140997461406] [120.21459469  22.99402035]\n",
            "[77, 81, 7.335069444444445, 141.66666666666669, 16.666666666666668, 1.5397966360103537, 107.59109281276793] [120.198012    22.99402035]\n",
            "[74, 80, 7.595486111111112, 152.77777777777777, 11.11111111111111, 1.6006617521990358, 107.13342451296144] [120.19703655  22.9967294 ]\n",
            "[82, 92, 6.640625, 80.55555555555556, 11.11111111111111, 0.9376454297529531, 104.84484704689305] [120.20874198  22.98950527]\n",
            "[78, 79, 5.425347222222222, 150.0, 16.666666666666668, 1.7580000252664316, 97.89079147641519] [120.19606109  22.99311733]\n",
            "[70, 80, 8.637152777777779, 105.55555555555556, 8.333333333333334, 1.638188005862818, 74.79363859835695] [120.19703655  23.00034146]\n",
            "[79, 99, 5.902777777777778, 19.444444444444446, 8.333333333333334, 0.6248358062272921, 53.90304976105006] [120.21557015  22.99221432]\n",
            "[77, 103, 8.159722222222223, 8.333333333333334, 11.11111111111111, 0.7818177329819336, 35.30767530864454] [120.21947196  22.99402035]\n",
            "[66, 102, 8.289930555555555, 13.88888888888889, 8.333333333333334, 0.9620120204499626, 31.717018217200973] [120.2184965   23.00395353]\n",
            "[63, 91, 7.009548611111112, 19.444444444444446, 8.333333333333334, 1.1646848960220209, 29.868444682080916] [120.20776653  23.00666257]\n",
            "[66, 91, 1.410590277777778, 19.444444444444446, 5.555555555555555, 0.9029587387147592, 29.24894476946944] [120.20776653  23.00395353]\n",
            "[63, 95, 5.208333333333334, 16.666666666666668, 5.555555555555555, 1.0566641571868485, 25.95957795008755] [120.21166834  23.00666257]\n",
            "[82, 99, 6.423611111111112, 8.333333333333334, 8.333333333333334, 0.8995906633260641, 25.66753826946792] [120.21557015  22.98950527]\n",
            "[85, 105, 10.76388888888889, 11.11111111111111, 11.11111111111111, 1.4588280534165232, 22.611377011745024] [120.22142286  22.98679622]\n",
            "[64, 103, 9.461805555555555, 11.11111111111111, 5.555555555555555, 1.1816302868516073, 22.112222844118342] [120.21947196  23.00575956]\n",
            "[70, 110, 13.541666666666668, 8.333333333333334, 5.555555555555555, 1.443614109799198, 19.001307461154603] [120.22630012  23.00034146]\n",
            "[69, 45, 31.971571180555557, 55.55555555555556, 8.333333333333334, 5.1199241565588425, 18.723023454682053] [120.16289571  23.00124448]\n",
            "[58, 91, 5.170355902777778, 11.11111111111111, 13.88888888888889, 1.6304656632450665, 18.50413448310873] [120.20776653  23.01117765]\n",
            "[73, 65, 7.03125, 36.111111111111114, 13.88888888888889, 3.100374596984439, 18.39495461466853] [120.18240476  22.99763241]\n",
            "[81, 103, 7.378472222222222, 5.555555555555555, 5.555555555555555, 1.0245472512310234, 18.046589174991745] [120.21947196  22.99040828]\n",
            "[73, 113, 11.11111111111111, 11.11111111111111, 8.333333333333334, 1.7008531536730356, 17.964840462311553] [120.22922648  22.99763241]\n",
            "[70, 112, 9.375, 11.11111111111111, 8.333333333333334, 1.638305775807692, 17.59100460366523] [120.22825103  23.00034146]\n",
            "[89, 78, 7.508680555555556, 27.77777777777778, 5.555555555555555, 2.3740917867512845, 17.203216032678014] [120.19508564  22.98318416]\n",
            "[71, 63, 3.4722222222222223, 38.88888888888889, 13.88888888888889, 3.3095421848637274, 16.99630850975726] [120.18045385  22.99943844]\n",
            "[76, 65, 9.98263888888889, 30.555555555555557, 11.11111111111111, 3.109849870721466, 16.608295481342072] [120.18240476  22.99492336]\n",
            "[97, 105, 15.711805555555555, 16.666666666666668, 8.333333333333334, 2.5146676910943535, 16.18973580474892] [120.22142286  22.97596003]\n",
            "[74, 57, 7.291666666666667, 38.88888888888889, 13.88888888888889, 3.90023597992482, 15.401489744116029] [120.17460114  22.9967294 ]\n",
            "[72, 52, 3.211805555555556, 55.55555555555556, 8.333333333333334, 4.402561908176311, 15.241283562606345] [120.16972388  22.99853543]\n",
            "[73, 33, 1.9314236111111112, 88.88888888888889, 2.7777777777777777, 6.300153709960443, 14.85647725226143] [120.15119028  22.99763241]\n",
            "[63, 88, 2.430555555555556, 11.11111111111111, 5.555555555555555, 1.321534990636611, 14.450788180056202] [120.20484017  23.00666257]\n",
            "[97, 107, 17.53472222222222, 8.333333333333334, 11.11111111111111, 2.5929862540449964, 14.2612274203074] [120.22337377  22.97596003]\n",
            "[77, 107, 5.295138888888889, 5.555555555555555, 5.555555555555555, 1.1538141972030012, 14.219143809957382] [120.22337377  22.99402035]\n",
            "[59, 95, 3.8194444444444446, 13.88888888888889, 2.7777777777777777, 1.4553628546458501, 14.076291040213631] [120.21166834  23.01027464]\n",
            "[85, 74, 4.340277777777778, 22.22222222222222, 8.333333333333334, 2.4814925902490197, 14.062437047144885] [120.19118383  22.98679622]\n",
            "[48, 109, 14.149305555555555, 0.0, 25.0, 2.863998965833908, 13.669455199735552] [120.22532467  23.02020781]\n",
            "[71, 49, 11.11111111111111, 47.22222222222222, 5.555555555555555, 4.706686802219329, 13.57406846335379] [120.16679752  22.99943844]\n",
            "[72, 55, 4.6875, 41.66666666666667, 8.333333333333334, 4.102753652228856, 13.32946226744337] [120.17265023  22.99853543]\n",
            "[71, 72, 4.231770833333334, 22.22222222222222, 5.555555555555555, 2.413126188169087, 13.264763677940001] [120.18923293  22.99943844]\n",
            "[69, 63, 1.8229166666666667, 33.333333333333336, 8.333333333333334, 3.330741722528601, 13.05702661937934] [120.18045385  23.00124448]\n",
            "[84, 119, 10.590277777777779, 8.333333333333334, 13.88888888888889, 2.5275944261395464, 12.981710855453693] [120.2350792   22.98769924]\n",
            "[62, 85, 0.8680555555555556, 13.88888888888889, 5.555555555555555, 1.5927347645887335, 12.753221974937537] [120.20191381  23.00756559]\n",
            "[85, 72, 14.388020833333334, 8.333333333333334, 11.11111111111111, 2.6604099981821716, 12.717011776716793] [120.18923293  22.98679622]\n",
            "[54, 92, 11.376953125, 5.555555555555555, 8.333333333333334, 1.9924789171123791, 12.680606954931136] [120.20874198  23.01478972]\n",
            "[77, 115, 10.56857638888889, 2.7777777777777777, 11.11111111111111, 1.9316789768975968, 12.661247324365497] [120.23117739  22.99402035]\n",
            "[55, 95, 9.337022569444445, 8.333333333333334, 5.555555555555555, 1.8546220467479437, 12.52325857932061] [120.21166834  23.0138867 ]\n",
            "[89, 75, 4.817708333333334, 16.666666666666668, 11.11111111111111, 2.608883982927669, 12.494034355078034] [120.19215928  22.98318416]\n",
            "[61, 117, 7.948133680555556, 0.0, 22.22222222222222, 2.444908050871659, 12.340077939545186] [120.23312829  23.00846861]\n",
            "[92, 93, 9.114583333333334, 2.7777777777777777, 11.11111111111111, 1.8722543273958574, 12.286510377154821] [120.20971743  22.98047511]\n",
            "[76, 62, 2.604166666666667, 25.0, 13.88888888888889, 3.4089778589594073, 12.171699926564305] [120.1794784   22.99492336]\n",
            "[76, 59, 3.211805555555556, 30.555555555555557, 11.11111111111111, 3.708246737655745, 12.102342534680744] [120.17655204  22.99492336]\n",
            "[52, 94, 11.631944444444445, 2.7777777777777777, 11.11111111111111, 2.161195803477245, 11.80866319112397] [120.21069288  23.01659575]\n",
            "[68, 108, 6.901041666666667, 5.555555555555555, 2.7777777777777777, 1.3208968656872195, 11.53335691509424] [120.22434922  23.00214749]\n",
            "[61, 104, 5.989583333333334, 8.333333333333334, 2.7777777777777777, 1.4857384078364566, 11.509895923971303] [120.22044741  23.00846861]\n",
            "[90, 90, 11.71875, 0.0, 8.333333333333334, 1.7538731538241128, 11.433029401021471] [120.20679107  22.98228114]\n",
            "[58, 88, 5.989583333333334, 5.555555555555555, 8.333333333333334, 1.7459616557863624, 11.385400221329128] [120.20484017  23.01117765]\n",
            "[59, 108, 4.774305555555555, 0.0, 16.666666666666668, 1.8836766706051766, 11.382511954842968] [120.22434922  23.01027464]\n",
            "[51, 109, 10.069444444444445, 0.0, 19.444444444444446, 2.6002564591010255, 11.350376146779226] [120.22532467  23.01749877]\n",
            "[63, 117, 9.727647569444445, 0.0, 16.666666666666668, 2.3487878636473853, 11.23741937048496] [120.23312829  23.00666257]\n",
            "[44, 108, 12.890625, 2.7777777777777777, 19.444444444444446, 3.1865372923256032, 11.01912326800234] [120.22434922  23.02381988]\n",
            "[84, 115, 7.161458333333334, 8.333333333333334, 8.333333333333334, 2.1699505406779633, 10.980953046310132] [120.23117739  22.98769924]\n",
            "[54, 89, 8.59375, 5.555555555555555, 8.333333333333334, 2.073628717874156, 10.842171838716459] [120.20581562  23.01478972]\n",
            "[87, 119, 11.54513888888889, 2.7777777777777777, 13.88888888888889, 2.6660039684612835, 10.582056849614647] [120.2350792   22.98499019]\n",
            "[56, 98, 4.644097222222222, 2.7777777777777777, 11.11111111111111, 1.7633132556155142, 10.510319735923416] [120.21459469  23.01298369]\n",
            "[51, 111, 11.458333333333334, 0.0, 16.666666666666668, 2.7058007631985137, 10.394335156722173] [120.22727558  23.01749877]\n",
            "[80, 110, 7.660590277777778, 0.0, 8.333333333333334, 1.5427789712111646, 10.366957230791796] [120.22630012  22.9913113 ]\n",
            "[66, 64, 0.4340277777777778, 27.77777777777778, 5.555555555555555, 3.2870973371516703, 10.272698873094871] [120.18142931  23.00395353]\n",
            "[57, 84, 4.258897569444445, 13.88888888888889, 2.7777777777777777, 2.041744191571043, 10.248866788747764] [120.20093836  23.01208067]\n",
            "[86, 114, 2.951388888888889, 8.333333333333334, 11.11111111111111, 2.190411454881021, 10.224486948982758] [120.23020193  22.9858932 ]\n",
            "[63, 67, 3.559027777777778, 22.22222222222222, 5.555555555555555, 3.084834112663413, 10.158343823713649] [120.18435566  23.00666257]\n",
            "[59, 118, 4.470486111111112, 0.0, 22.22222222222222, 2.6359738967860125, 10.126317398620369] [120.23410374  23.01027464]\n",
            "[92, 97, 1.996527777777778, 2.7777777777777777, 13.88888888888889, 1.8507794305409695, 10.083964699666737] [120.21361924  22.98047511]\n",
            "[52, 98, 4.861111111111112, 5.555555555555555, 11.11111111111111, 2.161206962562489, 9.960997789981592] [120.21459469  23.01659575]\n",
            "[92, 90, 10.76388888888889, 2.7777777777777777, 5.555555555555555, 1.9430131473836916, 9.828663407623894] [120.20679107  22.98047511]\n",
            "[69, 61, 0.78125, 25.0, 8.333333333333334, 3.528996501155645, 9.666936003524455] [120.17850295  23.00124448]\n",
            "[95, 95, 6.814236111111112, 2.7777777777777777, 11.11111111111111, 2.1503962333212887, 9.627586153284879] [120.21166834  22.97776606]\n",
            "[93, 76, 6.987847222222222, 11.11111111111111, 8.333333333333334, 2.7919071971133547, 9.467467863543561] [120.19313474  22.97957209]\n",
            "[96, 98, 4.557291666666667, 2.7777777777777777, 13.88888888888889, 2.2569569471808246, 9.403794059893025] [120.21459469  22.97686304]\n",
            "[79, 55, 8.338758680555555, 22.22222222222222, 8.333333333333334, 4.136410183973204, 9.402915210587604] [120.17265023  22.99221432]\n",
            "[61, 81, 1.605902777777778, 11.11111111111111, 5.555555555555555, 1.9537505651104239, 9.352560030308524] [120.198012    23.00846861]\n",
            "[82, 119, 8.984375, 5.555555555555555, 8.333333333333334, 2.4514290795067235, 9.330583568622531] [120.2350792   22.98950527]\n",
            "[88, 112, 5.46875, 5.555555555555555, 8.333333333333334, 2.1580331961868975, 8.970037589362649] [120.22825103  22.98408717]\n",
            "[59, 81, 1.8717447916666667, 13.88888888888889, 2.7777777777777777, 2.0875613091521443, 8.880415332981354] [120.198012    23.01027464]\n",
            "[78, 59, 2.213541666666667, 19.444444444444446, 11.11111111111111, 3.7269723527998755, 8.792417576589898] [120.17655204  22.99311733]\n",
            "[80, 53, 13.15646701388889, 8.333333333333334, 16.666666666666668, 4.348503146904977, 8.774620995973416] [120.17069933  22.9913113 ]\n",
            "[81, 68, 16.38454861111111, 2.7777777777777777, 5.555555555555555, 2.8981502759463744, 8.528847572051093] [120.18533112  22.99040828]\n",
            "[87, 121, 10.243055555555555, 5.555555555555555, 8.333333333333334, 2.840352315625561, 8.496109553624022] [120.2370301   22.98499019]\n",
            "[82, 115, 9.027777777777779, 5.555555555555555, 2.7777777777777777, 2.080734557262907, 8.343741420793581] [120.23117739  22.98950527]\n",
            "[84, 53, 17.447916666666668, 2.7777777777777777, 16.666666666666668, 4.425826219028804, 8.335700338276435] [120.17069933  22.98769924]\n",
            "[55, 84, 3.9116753472222223, 8.333333333333334, 5.555555555555555, 2.206692160817585, 8.066627757229156] [120.20093836  23.0138867 ]\n",
            "[27, 123, 18.196614583333336, 5.555555555555555, 19.444444444444446, 5.378731621665898, 8.031003891202609] [120.23898101  23.03917115]\n",
            "[64, 122, 5.381944444444445, 8.333333333333334, 8.333333333333334, 2.768840776677737, 7.963119908096229] [120.23800555  23.00575956]\n",
            "[84, 51, 14.496527777777779, 5.555555555555555, 16.666666666666668, 4.62038024452617, 7.947127304836268] [120.16874842  22.98769924]\n",
            "[87, 123, 10.069444444444445, 5.555555555555555, 8.333333333333334, 3.0178842578712746, 7.9387846869358825] [120.23898101  22.98499019]\n",
            "[80, 64, 6.423611111111112, 11.11111111111111, 8.333333333333334, 3.264906164395773, 7.923062487262291] [120.18142931  22.9913113 ]\n",
            "[69, 117, 0.3472222222222222, 8.333333333333334, 8.333333333333334, 2.1481367698582217, 7.920300572859621] [120.23312829  23.00124448]\n",
            "[82, 53, 12.288411458333334, 5.555555555555555, 16.666666666666668, 4.382774083824339, 7.874152995456733] [120.17069933  22.98950527]\n",
            "[72, 120, 4.947916666666667, 2.7777777777777777, 11.11111111111111, 2.404864098938976, 7.83279419567465] [120.23605465  22.99853543]\n",
            "[63, 120, 6.515842013888889, 5.555555555555555, 8.333333333333334, 2.6204657227229835, 7.786681094830263] [120.23605465  23.00666257]\n",
            "[97, 71, 12.022569444444445, 0.0, 13.88888888888889, 3.4297439564954404, 7.554924992071426] [120.18825747  22.97596003]\n",
            "[84, 49, 12.5, 5.555555555555555, 16.666666666666668, 4.815380513208267, 7.210691268733902] [120.16679752  22.98769924]\n",
            "[25, 123, 17.80056423611111, 5.555555555555555, 16.666666666666668, 5.552614231756749, 7.20791771008209] [120.23898101  23.04097718]\n",
            "[66, 71, 1.9639756944444444, 8.333333333333334, 8.333333333333334, 2.610573368729198, 7.136609368761136] [120.18825747  23.00395353]\n",
            "[104, 114, 8.072916666666668, 2.7777777777777777, 13.88888888888889, 3.539910140452, 6.988760265585277] [120.23020193  22.96963891]\n",
            "[104, 117, 8.940972222222223, 2.7777777777777777, 13.88888888888889, 3.701486185036717, 6.918204636939601] [120.23312829  22.96963891]\n",
            "[82, 49, 9.765625, 5.555555555555555, 16.666666666666668, 4.7758413327690645, 6.697845467088718] [120.16679752  22.98950527]\n",
            "[63, 71, 3.9171006944444446, 8.333333333333334, 5.555555555555555, 2.712240722487329, 6.565047650712914] [120.18825747  23.00666257]\n",
            "[55, 79, 5.338541666666667, 5.555555555555555, 5.555555555555555, 2.513847648533489, 6.543615635328602] [120.19606109  23.0138867 ]\n",
            "[107, 113, 7.703993055555556, 0.0, 16.666666666666668, 3.754969416754199, 6.49024186814503] [120.22922648  22.96692987]\n",
            "[52, 84, 2.0833333333333335, 5.555555555555555, 8.333333333333334, 2.4638682423808995, 6.4825796881037165] [120.20093836  23.01659575]\n",
            "[62, 76, 3.8194444444444446, 0.0, 11.11111111111111, 2.307963497045345, 6.469147183077053] [120.19313474  23.00756559]\n",
            "[85, 67, 8.702256944444445, 5.555555555555555, 5.555555555555555, 3.118929474331138, 6.352618171914446] [120.18435566  22.98679622]\n",
            "[94, 83, 6.944444444444445, 5.555555555555555, 2.7777777777777777, 2.4257874458617783, 6.298069438788047] [120.19996291  22.97866907]\n",
            "[89, 109, 4.340277777777778, 0.0, 8.333333333333334, 2.021555249281192, 6.269238060952076] [120.22532467  22.98318416]\n",
            "[89, 72, 3.8194444444444446, 5.555555555555555, 8.333333333333334, 2.8559130695500876, 6.2005855577820705] [120.18923293  22.98318416]\n",
            "[57, 79, 6.076388888888889, 2.7777777777777777, 5.555555555555555, 2.3703710788055243, 6.079099745632891] [120.19606109  23.01208067]\n",
            "[92, 69, 3.125, 5.555555555555555, 11.11111111111111, 3.2718567911944327, 6.04906263621687] [120.18630657  22.98047511]\n",
            "[100, 112, 6.770833333333334, 0.0, 11.11111111111111, 3.0939427245902418, 5.779662403677078] [120.22825103  22.97325098]\n",
            "[102, 116, 8.984375, 2.7777777777777777, 8.333333333333334, 3.48019523422205, 5.77424102921145] [120.23215284  22.97144495]\n",
            "[86, 58, 8.854166666666668, 8.333333333333334, 5.555555555555555, 3.999653368082967, 5.686256648399583] [120.17557659  22.9858932 ]\n",
            "[62, 78, 3.0815972222222223, 0.0, 8.333333333333334, 2.136988446557641, 5.341596756848756] [120.19508564  23.00756559]\n",
            "[104, 97, 1.8229166666666667, 5.555555555555555, 8.333333333333334, 3.049714545283587, 5.151893832114228] [120.21361924  22.96963891]\n",
            "[84, 58, 8.940972222222223, 8.333333333333334, 2.7777777777777777, 3.9418267356160723, 5.087002721899032] [120.17557659  22.98769924]\n",
            "[81, 59, 4.730902777777778, 8.333333333333334, 5.555555555555555, 3.774806815631023, 4.93264757008606] [120.17655204  22.99040828]\n",
            "[56, 131, 5.251736111111112, 0.0, 13.88888888888889, 3.9140352027588583, 4.890253666218557] [120.24678463  23.01298369]\n",
            "[57, 75, 4.644097222222222, 0.0, 8.333333333333334, 2.6718178862298987, 4.857153858591582] [120.19215928  23.01208067]\n",
            "[55, 82, 2.5227864583333335, 5.555555555555555, 2.7777777777777777, 2.321522383175664, 4.676293397101057] [120.19898745  23.0138867 ]\n",
            "[108, 74, 7.986111111111112, 0.0, 11.11111111111111, 4.09010263492985, 4.669130319403283] [120.19118383  22.96602685]\n",
            "[92, 119, 2.517361111111111, 0.0, 11.11111111111111, 2.950533814049867, 4.618985268810034] [120.2350792   22.98047511]\n",
            "[86, 55, 8.42013888888889, 8.333333333333334, 2.7777777777777777, 4.285696079900818, 4.557311026229374] [120.17265023  22.9858932 ]\n",
            "[50, 117, 3.146701388888889, 2.7777777777777777, 8.333333333333334, 3.153064476920224, 4.521890562138586] [120.23312829  23.01840178]\n",
            "[97, 75, 5.859375, 0.0, 8.333333333333334, 3.1501098141455257, 4.505464625265179] [120.19215928  22.97596003]\n",
            "[92, 66, 1.8229166666666667, 8.333333333333334, 5.555555555555555, 3.5234941019582577, 4.459154776738063] [120.18338021  22.98047511]\n",
            "[23, 76, 18.663194444444446, 0.0, 5.555555555555555, 5.433390194463527, 4.457392002635524] [120.19313474  23.04278322]\n",
            "[48, 74, 3.90625, 5.555555555555555, 5.555555555555555, 3.3692830139751515, 4.457138521407054] [120.19118383  23.02020781]\n",
            "[52, 117, 1.9314236111111112, 2.7777777777777777, 8.333333333333334, 3.006832992837605, 4.337631904828122] [120.23312829  23.01659575]\n",
            "[105, 71, 5.685763888888889, 2.7777777777777777, 8.333333333333334, 4.019957687826911, 4.178371093522622] [120.18825747  22.9687359 ]\n",
            "[80, 42, 0.4774305555555556, 22.22222222222222, 0.0, 5.438689821544883, 4.173735499284246] [120.15996935  22.9913113 ]\n",
            "[58, 70, 1.3888888888888888, 0.0, 11.11111111111111, 3.0278977938829787, 4.1282767289083395] [120.18728202  23.01117765]\n",
            "[52, 131, 5.034722222222222, 0.0, 11.11111111111111, 4.108675390686732, 3.929693100100246] [120.24678463  23.01659575]\n",
            "[47, 118, 2.3003472222222223, 0.0, 11.11111111111111, 3.445719674804927, 3.892208188436744] [120.23410374  23.02111083]\n",
            "[48, 84, 2.2569444444444446, 2.7777777777777777, 5.555555555555555, 2.81996251985979, 3.7554675649747047] [120.20093836  23.02020781]\n",
            "[47, 116, 3.993055555555556, 0.0, 8.333333333333334, 3.3215899747414874, 3.710990514369019] [120.23215284  23.02111083]\n",
            "[48, 102, 1.215277777777778, 2.7777777777777777, 5.555555555555555, 2.6215273537941637, 3.642384695048597] [120.2184965   23.02020781]\n",
            "[87, 62, 0.6944444444444444, 5.555555555555555, 5.555555555555555, 3.6574430719391153, 3.2278166258091465] [120.1794784   22.98499019]\n",
            "[48, 79, 1.3888888888888888, 5.555555555555555, 2.7777777777777777, 3.0662890145642745, 3.1706803161879273] [120.19606109  23.02020781]\n",
            "[108, 71, 2.2569444444444446, 2.7777777777777777, 8.333333333333334, 4.258979148659635, 3.1387933795737615] [120.18825747  22.96602685]\n",
            "[21, 73, 12.196180555555555, 2.7777777777777777, 2.7777777777777777, 5.733451297303053, 3.0961693386078495] [120.19020838  23.04458925]\n",
            "[45, 118, 1.953125, 0.0, 8.333333333333334, 3.601909913662078, 2.8558344267069815] [120.23410374  23.02291686]\n",
            "[110, 70, 1.5190972222222223, 2.7777777777777777, 8.333333333333334, 4.47974557105648, 2.819403051578818] [120.18728202  22.96422082]\n",
            "[113, 69, 1.3888888888888888, 0.0, 11.11111111111111, 4.782985667936414, 2.613430369193023] [120.18630657  22.96151177]\n",
            "[28, 69, 6.553819444444445, 0.0, 5.555555555555555, 5.292420733812335, 2.2880597762448014] [120.18630657  23.03826814]\n",
            "[28, 96, 4.345703125, 0.0, 5.555555555555555, 4.551927372399497, 2.1751794065502015] [120.21264379  23.03826814]\n",
            "[38, 73, 3.2823350694444446, 0.0, 5.555555555555555, 4.2315376299572245, 2.0885766352240474] [120.19020838  23.02923798]\n",
            "[30, 96, 4.736328125, 0.0, 2.7777777777777777, 4.35192737241757, 1.7266156485979136] [120.21264379  23.0364621 ]\n",
            "[21, 69, 7.248263888888889, 2.7777777777777777, 0.0, 5.90528708400251, 1.6978076635473538] [120.18630657  23.04458925]\n",
            "[36, 138, 9.244791666666668, 0.0, 0.0, 5.631826121786639, 1.6415264723645007] [120.25361279  23.03104401]\n",
            "[34, 74, 1.850043402777778, 0.0, 5.555555555555555, 4.522992888548664, 1.6373227066270355] [120.19118383  23.03285004]\n",
            "[116, 127, 0.0, 0.0, 8.333333333333334, 5.258944273366042, 1.5846019467324564] [120.24288282  22.95880272]\n",
            "[33, 93, 3.6458333333333335, 0.0, 2.7777777777777777, 4.063013568283156, 1.58099671663795] [120.20971743  23.03375306]\n",
            "[31, 115, 1.779513888888889, 0.0, 5.555555555555555, 4.657157447648523, 1.5750099769867225] [120.23117739  23.03555909]\n",
            "[104, 135, 4.866536458333334, 2.7777777777777777, 0.0, 4.949870405504478, 1.5443463383627765] [120.25068644  22.96963891]\n",
            "[25, 84, 4.78515625, 0.0, 2.7777777777777777, 4.998105093394231, 1.513160265031915] [120.20093836  23.04097718]\n",
            "[100, 135, 1.0850694444444444, 2.7777777777777777, 2.7777777777777777, 4.714102133905042, 1.4086722797622282] [120.25068644  22.97325098]\n",
            "[135, 61, 3.732638888888889, 0.0, 5.555555555555555, 7.074487613585022, 1.31291408675428] [120.17850295  22.94164542]\n"
          ],
          "name": "stdout"
        }
      ]
    },
    {
      "cell_type": "code",
      "metadata": {
        "id": "Xm61qfAy3DJe"
      },
      "source": [
        "peak_position = np.array(peak_position)"
      ],
      "execution_count": null,
      "outputs": []
    },
    {
      "cell_type": "code",
      "metadata": {
        "id": "RAMAN3396Cgn",
        "outputId": "f75766da-e8dc-402f-86f8-c2fc43d2080f",
        "colab": {
          "base_uri": "https://localhost:8080/",
          "height": 282
        }
      },
      "source": [
        "# plot top peaks position consider hotels and convenience stores \n",
        "select_num = 50\n",
        "plt.scatter(peak_position[:select_num,0],peak_position[:select_num,1])"
      ],
      "execution_count": null,
      "outputs": [
        {
          "output_type": "execute_result",
          "data": {
            "text/plain": [
              "<matplotlib.collections.PathCollection at 0x7f70616f5d30>"
            ]
          },
          "metadata": {
            "tags": []
          },
          "execution_count": 87
        },
        {
          "output_type": "display_data",
          "data": {
            "image/png": "[encoded data removed]",
            "text/plain": [
              "<Figure size 432x288 with 1 Axes>"
            ]
          },
          "metadata": {
            "tags": [],
            "needs_background": "light"
          }
        }
      ]
    },
    {
      "cell_type": "code",
      "metadata": {
        "id": "dPT5B4bwOoOn",
        "outputId": "043246cd-c25e-4909-f7e5-c3fa59b7aaaa",
        "colab": {
          "base_uri": "https://localhost:8080/"
        }
      },
      "source": [
        "search_center = peak_position[0]\n",
        "_ , res = store_filter_by_radius(x_y_h , search_center , 300 , return_store_position=True )\n",
        "for name , posi , rat  in zip(name_h ,x_y_h , rating_h):\n",
        "  if posi in res and rat > 4.5:\n",
        "    print(name)"
      ],
      "execution_count": null,
      "outputs": [
        {
          "output_type": "stream",
          "text": [
            "慢步南國 台南故事宿\n"
          ],
          "name": "stdout"
        }
      ]
    },
    {
      "cell_type": "code",
      "metadata": {
        "id": "twdD378qSL_W"
      },
      "source": [
        ""
      ],
      "execution_count": null,
      "outputs": []
    }
  ]
}