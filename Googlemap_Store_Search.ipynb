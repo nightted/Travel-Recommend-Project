{
  "nbformat": 4,
  "nbformat_minor": 0,
  "metadata": {
    "colab": {
      "name": "Googlemap Store Search.ipynb",
      "provenance": [],
      "collapsed_sections": [],
      "mount_file_id": "1gpdM-l18V49edFp4I1_mR5p6ilcHRc2_",
      "authorship_tag": "ABX9TyMgMkpQwFn+orkUL7jLoTFM",
      "include_colab_link": true
    },
    "kernelspec": {
      "name": "python3",
      "display_name": "Python 3"
    }
  },
  "cells": [
    {
      "cell_type": "markdown",
      "metadata": {
        "id": "view-in-github",
        "colab_type": "text"
      },
      "source": [
        "<a href=\"https://colab.research.google.com/github/nightted/Travel-Recommend-project/blob/main/Googlemap_Store_Search.ipynb\" target=\"_parent\"><img src=\"https://colab.research.google.com/assets/colab-badge.svg\" alt=\"Open In Colab\"/></a>"
      ]
    },
    {
      "cell_type": "markdown",
      "metadata": {
        "id": "5OfTz38QSrnj"
      },
      "source": [
        "# A project to recommend the hotels according to the surrounding stores and attractions"
      ]
    },
    {
      "cell_type": "code",
      "metadata": {
        "id": "XM3Vb3_nXlkZ",
        "outputId": "acbb362b-148f-4f69-be70-934838d20109",
        "colab": {
          "base_uri": "https://localhost:8080/",
          "height": 119
        }
      },
      "source": [
        "!pip install googlemaps"
      ],
      "execution_count": 96,
      "outputs": [
        {
          "output_type": "stream",
          "text": [
            "Requirement already satisfied: googlemaps in /usr/local/lib/python3.6/dist-packages (4.4.2)\n",
            "Requirement already satisfied: requests<3.0,>=2.20.0 in /usr/local/lib/python3.6/dist-packages (from googlemaps) (2.23.0)\n",
            "Requirement already satisfied: chardet<4,>=3.0.2 in /usr/local/lib/python3.6/dist-packages (from requests<3.0,>=2.20.0->googlemaps) (3.0.4)\n",
            "Requirement already satisfied: idna<3,>=2.5 in /usr/local/lib/python3.6/dist-packages (from requests<3.0,>=2.20.0->googlemaps) (2.10)\n",
            "Requirement already satisfied: certifi>=2017.4.17 in /usr/local/lib/python3.6/dist-packages (from requests<3.0,>=2.20.0->googlemaps) (2020.6.20)\n",
            "Requirement already satisfied: urllib3!=1.25.0,!=1.25.1,<1.26,>=1.21.1 in /usr/local/lib/python3.6/dist-packages (from requests<3.0,>=2.20.0->googlemaps) (1.24.3)\n"
          ],
          "name": "stdout"
        }
      ]
    },
    {
      "cell_type": "code",
      "metadata": {
        "id": "P_FHgZeTXslv"
      },
      "source": [
        "import googlemaps\n",
        "import matplotlib.pyplot as plt\n",
        "import numpy as np\n",
        "import pickle \n",
        "from sklearn.cluster import KMeans\n",
        "import time \n",
        "import os "
      ],
      "execution_count": 263,
      "outputs": []
    },
    {
      "cell_type": "code",
      "metadata": {
        "id": "9ZlgBT1jXtI8"
      },
      "source": [
        "GOOGLE_API_KEY =  # need to be hidden :)\n",
        "maps = googlemaps.Client(key = GOOGLE_API_KEY)\n",
        "position = [\"遠東百貨 花蓮店\"]\n",
        "result = maps.geocode(position)\n",
        "location = result[0]['geometry']['location']\n",
        "#re = maps.places_nearby( keyword = '餐廳' , location = location , radius = 1000 )"
      ],
      "execution_count": 98,
      "outputs": []
    },
    {
      "cell_type": "code",
      "metadata": {
        "id": "wTgRBVpOX05h"
      },
      "source": [
        "# get more stores by moving location center and search \n",
        "def delta_location( location , radius ):\n",
        "    \n",
        "    delta_point = radius / 100000 # how many segments of lag,lng in term of radius (1000m radius <=> 0.1 lag ,lng )\n",
        "    lng , lat = location['lng'] , location['lat']\n",
        "    return [ {'lng': lng + delta_point*lng_delta , 'lat': lat + delta_point * lat_delta } for lng_delta in [2,1,0,-1,-2] for lat_delta in [2,1,0,-1,-2] ] \n",
        "\n",
        "# get store information with location , keyword , search radius  \n",
        "def get_store_nearby( keyword , location ,  radius , next_page_token , data ):\n",
        "    \n",
        "    if data == None:      \n",
        "        data = []\n",
        "\n",
        "    res = maps.places_nearby( page_token = next_page_token , keyword = keyword , location = location , radius = 1000 )   #get stores list nearby   \n",
        "    for store_inform in res['results']:\n",
        "\n",
        "        lat_lng = store_inform['geometry']['location']\n",
        "        lat , lng = lat_lng['lat'] , lat_lng[\"lng\"]\n",
        "        store_name = store_inform['name']\n",
        "        rating = store_inform.get('rating',None)\n",
        "\n",
        "        information = {'location' : [lng , lat] , \n",
        "                       'store_name' : store_name, \n",
        "                       'rating' : rating } \n",
        "\n",
        "        if rating and information not in data: # discard None-rating store\n",
        "            data.append(information)\n",
        "        \n",
        "    next_page_token = res.get( 'next_page_token' , None) # get if token exsit or return None \n",
        "\n",
        "    return next_page_token , data\n",
        "\n",
        "# get store information with location , keyword , search radius (plus the change pages and move search location)\n",
        "def grab_nearby_point( keyword , location ,  radius , next_page_token = None , data = None ):\n",
        "    \n",
        "    for idx , location_in_radius in enumerate(delta_location(location , radius)): \n",
        "\n",
        "        print(f'finish [{idx+1}/{len(delta_location(location , radius))}] parts !')       \n",
        "        while True : # change page\n",
        "            next_page_token , data = get_store_nearby( keyword , location_in_radius ,  radius , next_page_token = next_page_token , data = data )\n",
        "            if next_page_token == None :\n",
        "                break\n",
        "            time.sleep(3) #set time sleep to avoid request too often !\n",
        "    return data   \n",
        "\n",
        "# store weighting\n",
        "def rating_modify(rating):\n",
        "    \n",
        "    if  4.8 < rating <= 5.0 :\n",
        "        score = 512.0\n",
        "    elif 4.6 < rating <= 4.8 :\n",
        "        score = 256.0\n",
        "    elif 4.4 < rating <= 4.6 :\n",
        "        score = 128.0\n",
        "    elif 4.2 < rating <= 4.4 :\n",
        "        score = 64.0\n",
        "    elif 4.0 < rating <= 4.2 :\n",
        "        score = 32.0\n",
        "    elif 3.8 < rating <= 4.0 :\n",
        "        score = 16.0\n",
        "    elif 3.6 < rating <= 3.8 :\n",
        "        score = 8.0\n",
        "    elif 3.4 < rating <= 3.6 :\n",
        "        score = 4.0\n",
        "    elif 3.2 < rating <= 3.4 :\n",
        "        score = 2.0\n",
        "    else:\n",
        "        score = 1.0\n",
        "    \n",
        "    return score\n",
        "\n",
        "def distance(a , b):\n",
        "\n",
        "    a_x , a_y = a[0] , a[1]\n",
        "    b_x , b_y = b[0] , b[1]\n",
        "    return ((a_x-b_x)**2 + (a_y-b_y)**2 )**0.5\n",
        "\n",
        "def save_pkl(path  , data):\n",
        "    with open(path , \"wb\") as pkl :\n",
        "        pickle.dump(data , pkl)\n",
        "        \n",
        "def load_pkl(path):\n",
        "    with open(path , \"rb\") as pkl :\n",
        "        data = pickle.load(pkl) \n",
        "    return data"
      ],
      "execution_count": 122,
      "outputs": []
    },
    {
      "cell_type": "code",
      "metadata": {
        "id": "rhfESXuz2DVf",
        "outputId": "22c3353d-bee8-4627-eb67-76cba16808c8",
        "colab": {
          "base_uri": "https://localhost:8080/",
          "height": 442
        }
      },
      "source": [
        "data_rest = grab_nearby_point('餐廳', location , 500) #餐廳 store"
      ],
      "execution_count": 207,
      "outputs": [
        {
          "output_type": "stream",
          "text": [
            "finish [1/25] parts !\n",
            "finish [2/25] parts !\n",
            "finish [3/25] parts !\n",
            "finish [4/25] parts !\n",
            "finish [5/25] parts !\n",
            "finish [6/25] parts !\n",
            "finish [7/25] parts !\n",
            "finish [8/25] parts !\n",
            "finish [9/25] parts !\n",
            "finish [10/25] parts !\n",
            "finish [11/25] parts !\n",
            "finish [12/25] parts !\n",
            "finish [13/25] parts !\n",
            "finish [14/25] parts !\n",
            "finish [15/25] parts !\n",
            "finish [16/25] parts !\n",
            "finish [17/25] parts !\n",
            "finish [18/25] parts !\n",
            "finish [19/25] parts !\n",
            "finish [20/25] parts !\n",
            "finish [21/25] parts !\n",
            "finish [22/25] parts !\n",
            "finish [23/25] parts !\n",
            "finish [24/25] parts !\n",
            "finish [25/25] parts !\n"
          ],
          "name": "stdout"
        }
      ]
    },
    {
      "cell_type": "code",
      "metadata": {
        "id": "ck34ZutAEiaR",
        "outputId": "015385a6-a1fd-476c-c527-1c9876a052d6",
        "colab": {
          "base_uri": "https://localhost:8080/",
          "height": 442
        }
      },
      "source": [
        "data_con = grab_nearby_point('便利商店', location , 500) #便利商店 store"
      ],
      "execution_count": 206,
      "outputs": [
        {
          "output_type": "stream",
          "text": [
            "finish [1/25] parts !\n",
            "finish [2/25] parts !\n",
            "finish [3/25] parts !\n",
            "finish [4/25] parts !\n",
            "finish [5/25] parts !\n",
            "finish [6/25] parts !\n",
            "finish [7/25] parts !\n",
            "finish [8/25] parts !\n",
            "finish [9/25] parts !\n",
            "finish [10/25] parts !\n",
            "finish [11/25] parts !\n",
            "finish [12/25] parts !\n",
            "finish [13/25] parts !\n",
            "finish [14/25] parts !\n",
            "finish [15/25] parts !\n",
            "finish [16/25] parts !\n",
            "finish [17/25] parts !\n",
            "finish [18/25] parts !\n",
            "finish [19/25] parts !\n",
            "finish [20/25] parts !\n",
            "finish [21/25] parts !\n",
            "finish [22/25] parts !\n",
            "finish [23/25] parts !\n",
            "finish [24/25] parts !\n",
            "finish [25/25] parts !\n"
          ],
          "name": "stdout"
        }
      ]
    },
    {
      "cell_type": "code",
      "metadata": {
        "id": "JaKuKf11X6dl",
        "outputId": "ed14e087-1f9d-4710-e23e-3107aa6575f6",
        "colab": {
          "base_uri": "https://localhost:8080/",
          "height": 442
        }
      },
      "source": [
        "data_b = grab_nearby_point('扁食', location , 500) #扁食 store"
      ],
      "execution_count": 172,
      "outputs": [
        {
          "output_type": "stream",
          "text": [
            "finish [1/25] parts !\n",
            "finish [2/25] parts !\n",
            "finish [3/25] parts !\n",
            "finish [4/25] parts !\n",
            "finish [5/25] parts !\n",
            "finish [6/25] parts !\n",
            "finish [7/25] parts !\n",
            "finish [8/25] parts !\n",
            "finish [9/25] parts !\n",
            "finish [10/25] parts !\n",
            "finish [11/25] parts !\n",
            "finish [12/25] parts !\n",
            "finish [13/25] parts !\n",
            "finish [14/25] parts !\n",
            "finish [15/25] parts !\n",
            "finish [16/25] parts !\n",
            "finish [17/25] parts !\n",
            "finish [18/25] parts !\n",
            "finish [19/25] parts !\n",
            "finish [20/25] parts !\n",
            "finish [21/25] parts !\n",
            "finish [22/25] parts !\n",
            "finish [23/25] parts !\n",
            "finish [24/25] parts !\n",
            "finish [25/25] parts !\n"
          ],
          "name": "stdout"
        }
      ]
    },
    {
      "cell_type": "code",
      "metadata": {
        "id": "0ixlH-N0X8LV"
      },
      "source": [
        "# grab the store contain some keyword (ex: 扁食)\n",
        "def grab_keyword_store(data , keyword = ''):\n",
        " \n",
        "  x ,y , x_y , rat , name = [] , [] , [] , [] , []\n",
        "  for item in data:\n",
        "    if keyword in item[\"store_name\"] : # if keyword == None , grab all stores\n",
        "      x.append(item['location'][0])\n",
        "      y.append(item['location'][1])\n",
        "      x_y.append(item['location'])\n",
        "      rat.append(rating_modify(item['rating'])) # rating func 要修正XD , EX: 4.8~5.0 => 10 分 , 4.6~4.8 => 9 分 , ... , < 3.0 => 1分\n",
        "      name.append(item['store_name'])\n",
        "\n",
        "  return np.array(x) , np.array(y) , np.array(x_y) ,np.array(rat) ,name"
      ],
      "execution_count": 163,
      "outputs": []
    },
    {
      "cell_type": "code",
      "metadata": {
        "id": "clrwF4FIFWzV"
      },
      "source": [
        "data_all = data_rest + data_con"
      ],
      "execution_count": 218,
      "outputs": []
    },
    {
      "cell_type": "code",
      "metadata": {
        "id": "jCdhN4Er03Tn"
      },
      "source": [
        "# The store contain convenience store & resturant (represent the daily demands store)\n",
        "x , y , x_y , rating , name = grab_keyword_store(data_all)"
      ],
      "execution_count": 223,
      "outputs": []
    },
    {
      "cell_type": "code",
      "metadata": {
        "id": "ZjJjn1h75gKq"
      },
      "source": [
        "# The store of target store (what you want to eat or play)\n",
        "x_b , y_b , x_y_b , rating_b , name_b = grab_keyword_store(data_b,\"扁食\")"
      ],
      "execution_count": 211,
      "outputs": []
    },
    {
      "cell_type": "code",
      "metadata": {
        "id": "afZia2SJb8Jt",
        "outputId": "5047c9a2-2f04-4a4d-8a86-4c49e9befdef",
        "colab": {
          "base_uri": "https://localhost:8080/",
          "height": 283
        }
      },
      "source": [
        "# plot the KM of daily demands store and calculate each cluster center \n",
        "kmeans = KMeans(n_clusters=3).fit(x_y)\n",
        "plt.scatter(x_y[:,0],x_y[:,1], c=kmeans.labels_)\n",
        "plt.scatter(kmeans.cluster_centers_[:,0],kmeans.cluster_centers_[:,1])\n",
        "plt.scatter(x_y_b[:,0] , x_y_b[:,1])"
      ],
      "execution_count": 259,
      "outputs": [
        {
          "output_type": "execute_result",
          "data": {
            "text/plain": [
              "<matplotlib.collections.PathCollection at 0x7f52fabb5b38>"
            ]
          },
          "metadata": {
            "tags": []
          },
          "execution_count": 259
        },
        {
          "output_type": "display_data",
          "data": {
            "image/png": "[encoded data removed]",
            "text/plain": [
              "<Figure size 432x288 with 1 Axes>"
            ]
          },
          "metadata": {
            "tags": [],
            "needs_background": "light"
          }
        }
      ]
    },
    {
      "cell_type": "code",
      "metadata": {
        "id": "eYDKnz_95qWt"
      },
      "source": [
        "# grouping the target by the cluster center calculate above\n",
        "cluster_num = 3\n",
        "group = np.zeros(len(x_y_b))\n",
        "for store_idx , position in enumerate(x_y_b):\n",
        "  \n",
        "  min = 1000000000\n",
        "  for center_idx , cluster_center in enumerate(kmeans.cluster_centers_): \n",
        "    if distance(position , cluster_center) < min :\n",
        "      min = distance(position , cluster_center)\n",
        "      group_idx = center_idx\n",
        "\n",
        "  group[store_idx] = group_idx"
      ],
      "execution_count": 257,
      "outputs": []
    },
    {
      "cell_type": "code",
      "metadata": {
        "id": "523wj34BI2wd",
        "outputId": "ca13c6e8-889b-47c8-c0a0-b1e5bdfe922b",
        "colab": {
          "base_uri": "https://localhost:8080/",
          "height": 34
        }
      },
      "source": [
        "group"
      ],
      "execution_count": 258,
      "outputs": [
        {
          "output_type": "execute_result",
          "data": {
            "text/plain": [
              "array([1., 2., 1., 2., 1., 1., 1., 1., 1., 2., 2., 1., 0.])"
            ]
          },
          "metadata": {
            "tags": []
          },
          "execution_count": 258
        }
      ]
    },
    {
      "cell_type": "code",
      "metadata": {
        "id": "jAabR6t8LxmJ",
        "outputId": "8a1bdea7-f6cc-40b1-c706-4afdaeba81ce",
        "colab": {
          "base_uri": "https://localhost:8080/",
          "height": 282
        }
      },
      "source": [
        "kmeans = KMeans(n_clusters=3).fit(x_y)\n",
        "#plt.scatter(x_y[:,0],x_y[:,1], c=kmeans.labels_)\n",
        "plt.scatter(kmeans.cluster_centers_[:,0],kmeans.cluster_centers_[:,1])\n",
        "plt.scatter(x_y_b[:,0] , x_y_b[:,1] , c=group)"
      ],
      "execution_count": 261,
      "outputs": [
        {
          "output_type": "execute_result",
          "data": {
            "text/plain": [
              "<matplotlib.collections.PathCollection at 0x7f52fb56e470>"
            ]
          },
          "metadata": {
            "tags": []
          },
          "execution_count": 261
        },
        {
          "output_type": "display_data",
          "data": {
            "image/png": "[encoded data removed]",
            "text/plain": [
              "<Figure size 432x288 with 1 Axes>"
            ]
          },
          "metadata": {
            "tags": [],
            "needs_background": "light"
          }
        }
      ]
    },
    {
      "cell_type": "code",
      "metadata": {
        "id": "wT9XPXdyN1HN"
      },
      "source": [
        "path = '/content/drive/My Drive/Colab Notebooks/Travel Recommend Project/City data/Hualien'\n",
        "save_pkl(os.path.join(path ,'data_rest') , data_rest)\n",
        "save_pkl(os.path.join(path ,'data_con') , data_con)\n",
        "save_pkl(os.path.join(path ,'data_b') , data_b)"
      ],
      "execution_count": 264,
      "outputs": []
    },
    {
      "cell_type": "code",
      "metadata": {
        "id": "mQ3-ICf_X_f0",
        "outputId": "7ce9c933-ec2d-407b-bc1d-748b9c09174f",
        "colab": {
          "base_uri": "https://localhost:8080/",
          "height": 34
        }
      },
      "source": [
        "# calculate the foucs_center where \"best-food\" is clutering at \n",
        "# TODO: need to modify due to new definition of target and surrounding stores\n",
        "x_focus , y_focus = (x*rating).sum() / rating.sum() , (y*rating).sum() / rating.sum()\n",
        "x_focus , y_focus"
      ],
      "execution_count": 183,
      "outputs": [
        {
          "output_type": "execute_result",
          "data": {
            "text/plain": [
              "(121.6005545024866, 23.97982576420864)"
            ]
          },
          "metadata": {
            "tags": []
          },
          "execution_count": 183
        }
      ]
    }
  ]
}